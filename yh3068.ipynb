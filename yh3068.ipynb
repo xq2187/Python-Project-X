{
 "cells": [
  {
   "cell_type": "code",
   "execution_count": null,
   "metadata": {},
   "outputs": [],
   "source": [
    "#import necessary libraries\n",
    "import numpy as np\n",
    "import pandas as pd\n",
    "%matplotlib inline\n",
    "import matplotlib.pyplot as plt\n",
    "import seaborn as sns\n",
    "color = sns.color_palette()\n",
    "sns.set_style('darkgrid')\n",
    "import warnings\n",
    "from scipy import stats\n",
    "from scipy.stats import norm, skew #for some statistics\n"
   ]
  },
  {
   "cell_type": "code",
   "execution_count": null,
   "metadata": {},
   "outputs": [],
   "source": [
    "#import data\n",
    "path1=('/Users/yashi/desktop/project/all/properties_2017.csv')\n",
    "path2=('/Users/yashi/desktop/project/all/train_2016_v2.csv')\n",
    "train_data=pd.read_csv(path1)\n",
    "test_data=pd.read_csv(path2)"
   ]
  },
  {
   "cell_type": "code",
   "execution_count": null,
   "metadata": {},
   "outputs": [],
   "source": [
    "train_data.head()"
   ]
  },
  {
   "cell_type": "code",
   "execution_count": null,
   "metadata": {},
   "outputs": [],
   "source": [
    "train_data.columns"
   ]
  },
  {
   "cell_type": "code",
   "execution_count": null,
   "metadata": {},
   "outputs": [],
   "source": [
    "# divide the variables into numerical variables and categorical variables\n",
    "num_vari=[]\n",
    "cate_vari=[]"
   ]
  },
  {
   "cell_type": "code",
   "execution_count": null,
   "metadata": {},
   "outputs": [],
   "source": [
    "train_data['SalePrice'].describe() ##"
   ]
  },
  {
   "cell_type": "code",
   "execution_count": null,
   "metadata": {},
   "outputs": [],
   "source": [
    "#calculate missing data\n",
    "total_missing = train_data.isnull().sum().sort_values(ascending=False)\n",
    "missing_ratio = (train_data.isnull().sum()/train_data.isnull().count()).sort_values(ascending=False)\n",
    "missing_data = pd.concat([total_missing, missing_ratio], axis=1, keys=['total_missing', 'missing_ratio'])\n",
    "missing_data.head(60)"
   ]
  },
  {
   "cell_type": "code",
   "execution_count": null,
   "metadata": {},
   "outputs": [],
   "source": [
    "#plot ratio of missing\n",
    "f, ax = plt.subplots(figsize=(18, 10))\n",
    "plt.xticks(rotation='90')\n",
    "sns.barplot(x=missing_data.index, y=missing_data.missing_ratio)\n",
    "plt.xlabel('properties', fontsize=18)\n",
    "plt.ylabel('Ratio of missing values', fontsize=18)\n",
    "plt.title('Ratio of missing data by properties', fontsize=20)"
   ]
  },
  {
   "cell_type": "code",
   "execution_count": null,
   "metadata": {},
   "outputs": [],
   "source": [
    "#plot correlation matrix\n",
    "import seaborn as sns\n",
    "color = sns.color_palette()\n",
    "sns.set_style('darkgrid')\n",
    "\n",
    "def correlation_map(df):\n",
    "    correlation = train_data.corr()\n",
    "    plt.subplots(figsize=(15,10))\n",
    "    plt.title('Correlation Map', fontsize=20)\n",
    "    sns.heatmap(correlation, xticklabels=correlation.columns, yticklabels=correlation.columns)\n",
    "    \n",
    "correlation_map(train_data)"
   ]
  },
  {
   "cell_type": "code",
   "execution_count": null,
   "metadata": {},
   "outputs": [],
   "source": [
    "#missing value by the median for numerical \n",
    "def fillmedian(num_vari):\n",
    "    for i in num_vari:\n",
    "        train_data[i] = train_data[col].transform(lambda x: x.fillna(x.median()))\n",
    "fillmedian(num_vari)\n",
    "train_data.head()"
   ]
  },
  {
   "cell_type": "code",
   "execution_count": null,
   "metadata": {},
   "outputs": [],
   "source": [
    "#missing value by the mode for category numerical\n",
    "def fillmode(cate_vari):\n",
    "    for i in cato_vari:\n",
    "        train_data[i] = train_data[i].fillna(train_data[i].mode()[0])\n",
    "fillmode(cate_vari)\n",
    "train_data.head()"
   ]
  },
  {
   "cell_type": "code",
   "execution_count": null,
   "metadata": {},
   "outputs": [],
   "source": [
    "#check if there is any missing_value left\n",
    "def left_missing(dataset):\n",
    "    val = dataset.isnull().sum().max()\n",
    "    if val>0:\n",
    "        raise ValueError('There is still missing_value left!')\n",
    "data=train_data['airconditioningtypeid']\n",
    "left_missing(data)"
   ]
  }
 ],
 "metadata": {
  "kernelspec": {
   "display_name": "Python 3",
   "language": "python",
   "name": "python3"
  },
  "language_info": {
   "codemirror_mode": {
    "name": "ipython",
    "version": 3
   },
   "file_extension": ".py",
   "mimetype": "text/x-python",
   "name": "python",
   "nbconvert_exporter": "python",
   "pygments_lexer": "ipython3",
   "version": "3.6.3"
  }
 },
 "nbformat": 4,
 "nbformat_minor": 2
}
