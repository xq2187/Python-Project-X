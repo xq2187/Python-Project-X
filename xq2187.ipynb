{
 "cells": [
  {
   "cell_type": "code",
   "execution_count": 1,
   "metadata": {},
   "outputs": [
    {
     "ename": "ModuleNotFoundError",
     "evalue": "No module named 'sklearn'",
     "output_type": "error",
     "traceback": [
      "\u001b[0;31m---------------------------------------------------------------------------\u001b[0m",
      "\u001b[0;31mModuleNotFoundError\u001b[0m                       Traceback (most recent call last)",
      "\u001b[0;32m<ipython-input-1-4c3b6a7a4279>\u001b[0m in \u001b[0;36m<module>\u001b[0;34m\u001b[0m\n\u001b[0;32m----> 1\u001b[0;31m \u001b[0;32mfrom\u001b[0m \u001b[0msklearn\u001b[0m\u001b[0;34m.\u001b[0m\u001b[0mpreprocessing\u001b[0m \u001b[0;32mimport\u001b[0m \u001b[0mLabelEncoder\u001b[0m\u001b[0;34m\u001b[0m\u001b[0m\n\u001b[0m",
      "\u001b[0;31mModuleNotFoundError\u001b[0m: No module named 'sklearn'"
     ]
    }
   ],
   "source": [
    "#import necessary libraries\n",
    "import numpy as np\n",
    "import pandas as pd\n",
    "%matplotlib inline\n",
    "import matplotlib.pyplot as plt\n",
    "import seaborn as sns\n",
    "color = sns.color_palette()\n",
    "sns.set_style('darkgrid')\n",
    "import warnings\n",
    "from scipy import stats\n",
    "from scipy.stats import norm, skew #for some statistics"
   ]
  },
  {
   "cell_type": "code",
   "execution_count": null,
   "metadata": {},
   "outputs": [],
   "source": [
    "#import data\n",
    "path = 'F:/Dropbox/Columbia MSBA/IEOR E4501 Tools for Analytics/Project/airbnb-price-prediction/train.csv'\n",
    "data = pd.read_csv(path)"
   ]
  },
  {
   "cell_type": "code",
   "execution_count": null,
   "metadata": {},
   "outputs": [],
   "source": [
    "data.head()"
   ]
  },
  {
   "cell_type": "code",
   "execution_count": null,
   "metadata": {},
   "outputs": [],
   "source": [
    "print (len(data))"
   ]
  },
  {
   "cell_type": "code",
   "execution_count": null,
   "metadata": {},
   "outputs": [],
   "source": [
    "data.columns"
   ]
  },
  {
   "cell_type": "code",
   "execution_count": null,
   "metadata": {},
   "outputs": [],
   "source": [
    "len(data.columns)"
   ]
  },
  {
   "cell_type": "code",
   "execution_count": null,
   "metadata": {},
   "outputs": [],
   "source": [
    "# check the dtypes of different types of variable.\n",
    "pd.options.display.max_rows = 65\n",
    "dtypes = data.dtypes.reset_index()\n",
    "dtypes.columns = [\"val_name\", \"Type\"]\n",
    "dtypes"
   ]
  },
  {
   "cell_type": "code",
   "execution_count": null,
   "metadata": {},
   "outputs": [],
   "source": [
    "# divide the variables into numerical variables and categorical variables\n",
    "num_var=['accommodates','bathrooms','cancellation_fee','first_view','host_response_rate','host_since','latitude','longitude','number_of_reviews','review_scores_rating',\n",
    "        'zipcode','bedrooms','beds']\n",
    "cate_var=['property_type','room_type','bed_type','cancellation_policy','city','host_has_profile_pic','host_identity_verified','instant_bookable','neighbourhood']"
   ]
  },
  {
   "cell_type": "code",
   "execution_count": null,
   "metadata": {},
   "outputs": [],
   "source": [
    "# describe log_price# descr \n",
    "data['log_price'].describe()"
   ]
  },
  {
   "cell_type": "code",
   "execution_count": null,
   "metadata": {},
   "outputs": [],
   "source": [
    "#calculete Target variable\n",
    "data['Saleprice']=np.exp(data['log_price'])"
   ]
  },
  {
   "cell_type": "code",
   "execution_count": null,
   "metadata": {},
   "outputs": [],
   "source": [
    "def drawHist(heights):\n",
    "    plt.hist(heights, 20)\n",
    "    plt.xlabel('Saleprice')\n",
    "    plt.ylabel('Frequency')\n",
    "    plt.title('Histogram of Saleprice')\n",
    "    plt.show()\n",
    "drawHist(data['Saleprice'])"
   ]
  },
  {
   "cell_type": "code",
   "execution_count": null,
   "metadata": {},
   "outputs": [],
   "source": [
    "drawHist(data['log_price'])"
   ]
  },
  {
   "cell_type": "code",
   "execution_count": null,
   "metadata": {},
   "outputs": [],
   "source": [
    "# plot probability distribution# plot  \n",
    "fig = plt.figure()\n",
    "res = stats.probplot(data['log_price'], plot=plt)\n",
    "plt.show()"
   ]
  },
  {
   "cell_type": "code",
   "execution_count": null,
   "metadata": {},
   "outputs": [],
   "source": [
    "# deal with dates\n",
    "import time\n",
    "import datetime\n",
    "def dif_time(date):\n",
    "    now_time = datetime.datetime.now()\n",
    "    now_time = now_time.strftime('%Y-%m-%d')\n",
    "    d2 = datetime.datetime.strptime(now_time, '%Y-%m-%d')\n",
    "    if str(date) !='nan':\n",
    "        d1 = datetime.datetime.strptime(str(date),'%Y-%m-%d')\n",
    "        day = (d2 - d1).days\n",
    "        return day\n",
    "    else:\n",
    "        return None"
   ]
  },
  {
   "cell_type": "code",
   "execution_count": null,
   "metadata": {},
   "outputs": [],
   "source": [
    "#transform date to days\n",
    "dates_to_transform=['first_review','host_since','last_review']\n",
    "for col in dates_to_transform:\n",
    "    data[col]=data[col].apply(dif_time)"
   ]
  },
  {
   "cell_type": "code",
   "execution_count": null,
   "metadata": {},
   "outputs": [],
   "source": [
    "#calculate missing data\n",
    "total_missing = data.isnull().sum()\n",
    "missing_ratio = (data.isnull().sum()/data.isnull().count())\n",
    "missing_data = pd.concat([total_missing, missing_ratio], axis=1, keys=['total_missing', 'missing_ratio'])\n",
    "missing_data = missing_data.ix[missing_data['missing_ratio']>0]\n",
    "missing_data = missing_data.sort_values(by='missing_ratio',ascending=False)\n",
    "missing_data.head()"
   ]
  },
  {
   "cell_type": "code",
   "execution_count": null,
   "metadata": {},
   "outputs": [],
   "source": [
    "#plot ratio of missing#plot ra \n",
    "f, ax = plt.subplots(figsize=(18, 10))\n",
    "plt.xticks(rotation='90')\n",
    "sns.barplot(x=missing_data.index, y=missing_data.missing_ratio)\n",
    "plt.xlabel('properties', fontsize=18)\n",
    "plt.ylabel('Ratio of missing values', fontsize=18)\n",
    "plt.title('Ratio of missing data by properties', fontsize=20)"
   ]
  },
  {
   "cell_type": "code",
   "execution_count": null,
   "metadata": {},
   "outputs": [],
   "source": [
    "#plot correlation matrix\n",
    "import seaborn as sns\n",
    "color = sns.color_palette()\n",
    "sns.set_style('darkgrid')\n",
    "\n",
    "def correlation_map(df):\n",
    "    correlation = data.corr()\n",
    "    plt.subplots(figsize=(15,10))\n",
    "    plt.title('Correlation Map', fontsize=20)\n",
    "    sns.heatmap(correlation, xticklabels=correlation.columns, yticklabels=correlation.columns)\n",
    "    \n",
    "correlation_map(data)"
   ]
  },
  {
   "cell_type": "code",
   "execution_count": null,
   "metadata": {},
   "outputs": [],
   "source": [
    "#missing_values\n",
    "# fill NA by 0\n",
    "fillby0=['first_review','host_since','last_review']\n",
    "for col in fillby0:\n",
    "    data[col] = data[col].fillna(0)"
   ]
  },
  {
   "cell_type": "code",
   "execution_count": null,
   "metadata": {},
   "outputs": [],
   "source": [
    "#fill NA by None\n",
    "fillbynone=['neighbourhood']\n",
    "for col in fillbynone:\n",
    "    data[col] = data[col].fillna('None')"
   ]
  },
  {
   "cell_type": "code",
   "execution_count": null,
   "metadata": {},
   "outputs": [],
   "source": [
    "#fill NA by numerical value\n",
    "fillbymedian=['host_response_rate','review_scores_rating','number_of_reviews']\n",
    "for col in fillbymedian:\n",
    "    data[col] = data[col].fillna(data[col].transform(lambda x: x.fillna(x.median())))"
   ]
  },
  {
   "cell_type": "code",
   "execution_count": null,
   "metadata": {},
   "outputs": [],
   "source": [
    "fillbymode=['host_has_profile_pic','bedrooms','beds','zipcode','instant_bookable']\n",
    "for col in fillbymode:\n",
    "    data[col] = data[col].fillna(data[col].mode()[0])"
   ]
  },
  {
   "cell_type": "code",
   "execution_count": null,
   "metadata": {},
   "outputs": [],
   "source": [
    "#check if there is any missing_value left\n",
    "def left_missing(dataset):\n",
    "    val = dataset.isnull().sum().max()\n",
    "    if val>0:\n",
    "        raise ValueError('There is still missing_value left!')\n",
    "left_missing(data)"
   ]
  },
  {
   "cell_type": "code",
   "execution_count": null,
   "metadata": {},
   "outputs": [],
   "source": [
    "from sklearn.model_selection import train_test_split\n",
    "\n",
    "train_data, test_data = train_test_split(data, test_size=0.2)"
   ]
  },
  {
   "cell_type": "code",
   "execution_count": null,
   "metadata": {},
   "outputs": [],
   "source": [
    "train_data.head()\n"
   ]
  },
  {
   "cell_type": "code",
   "execution_count": null,
   "metadata": {},
   "outputs": [],
   "source": [
    "test_data.head()"
   ]
  },
  {
   "cell_type": "code",
   "execution_count": null,
   "metadata": {},
   "outputs": [],
   "source": [
    "print (len(train_data))\n",
    "print (len(test_data))"
   ]
  },
  {
   "cell_type": "code",
   "execution_count": null,
   "metadata": {},
   "outputs": [],
   "source": [
    "#if one column only has one value, consider to delete the column\n",
    "train_columns_to_remove = [col for col in train_data.columns if train_data[col].nunique() == 1]\n",
    "test_columns_to_remove = [col for col in test_data.columns if test_data[col].nunique() == 1]"
   ]
  },
  {
   "cell_type": "code",
   "execution_count": null,
   "metadata": {},
   "outputs": [],
   "source": [
    "print(train_columns_to_remove)\n",
    "print(test_columns_to_remove)"
   ]
  },
  {
   "cell_type": "code",
   "execution_count": null,
   "metadata": {},
   "outputs": [],
   "source": [
    "for col in data.columns:\n",
    "    if data[col].isnull().sum() > 0:\n",
    "        rate = data[col].isnull().sum() * 100 / data.shape[0]\n",
    "        print(f'Column {col} has {rate:.4f}% missing values.')\n",
    "    if data[col].dtype == 'object':\n",
    "        if (data[col] == 'not available in demo dataset').sum() > 0:\n",
    "            rate = (data[col] == 'not available in demo dataset').sum() * 100 / data.shape[0]\n",
    "            print(f'Column {col} has {rate:.4f}% values not available in dataset.')"
   ]
  },
  {
   "cell_type": "code",
   "execution_count": null,
   "metadata": {},
   "outputs": [],
   "source": [
    "# deal with dates\n",
    "import time\n",
    "import datetime\n",
    "def dif_time(date):\n",
    "    now_time = datetime.datetime.now()\n",
    "    now_time = now_time.strftime('%Y-%m-%d')\n",
    "    d2 = datetime.datetime.strptime(now_time, '%Y-%m-%d')\n",
    "    if str(date) != 'nan':\n",
    "        d1 = datetime.datetime.strptime(str(date), '%Y-%m-%d')\n",
    "        day = (d2 - d1).days\n",
    "        return day\n",
    "    else:\n",
    "        return None"
   ]
  },
  {
   "cell_type": "code",
   "execution_count": null,
   "metadata": {},
   "outputs": [],
   "source": [
    "data['last_review'] = data['last_review'].apply(dif_time)"
   ]
  },
  {
   "cell_type": "code",
   "execution_count": null,
   "metadata": {},
   "outputs": [],
   "source": [
    "data['neighbourhood'].nunique()"
   ]
  },
  {
   "cell_type": "code",
   "execution_count": null,
   "metadata": {},
   "outputs": [],
   "source": [
    "from sklearn.preprocessing import LabelEncoder"
   ]
  },
  {
   "cell_type": "code",
   "execution_count": null,
   "metadata": {},
   "outputs": [],
   "source": [
    "for col in train_data.columns:\n",
    "    print(col)\n",
    "    lbl = LabelEncoder()\n",
    "    lbl.fit(list(train_data[col].values.astype('str')) + list(test_data[col].values.astype('str')))\n",
    "    train_data[col] = lbl.transform(list(train_data[col].values.astype('str')))\n",
    "    test_data[col] = lbl.transform(list(test_data[col].values.astype('str')))"
   ]
  },
  {
   "cell_type": "code",
   "execution_count": null,
   "metadata": {},
   "outputs": [],
   "source": [
    "from sklearn.model_selection import TimeSeriesSplit"
   ]
  },
  {
   "cell_type": "code",
   "execution_count": null,
   "metadata": {},
   "outputs": [],
   "source": [
    "from sklearn.model_selection import KFold #Provides train/test indices to split data in train/test sets. Split dataset into k consecutive folds (without shuffling by default).\n",
    "import lightgbm as lgb"
   ]
  },
  {
   "cell_type": "code",
   "execution_count": null,
   "metadata": {},
   "outputs": [],
   "source": [
    "params = {\"objective\" : \"regression\", \"metric\" : \"rmse\", \"max_depth\": 8, \"min_child_samples\": 20, \"reg_alpha\": 0.2, \"reg_lambda\": 0.2,\n",
    "        \"num_leaves\" : 257, \"learning_rate\" : 0.01, \"subsample\" : 0.9, \"colsample_bytree\" : 0.9, \"subsample_freq \": 5}\n",
    "n_fold = 10\n",
    "folds = KFold(n_splits=n_fold, shuffle=False, random_state=42)\n",
    "# Cleaning and defining parameters for LGBM\n",
    "model = lgb.LGBMRegressor(**params, n_estimators = 20000, nthread = 4, n_jobs = -1)"
   ]
  },
  {
   "cell_type": "code",
   "execution_count": null,
   "metadata": {},
   "outputs": [],
   "source": [
    "prediction = np.zeros(test_data.shape[0])\n",
    "\n",
    "for fold_n, (train_index, test_index) in enumerate(folds.split(X)):\n",
    "    print('Fold:', fold_n)\n",
    "    #print(f'Train samples: {len(train_index)}. Valid samples: {len(test_index)}')\n",
    "    X_train, X_valid = X.iloc[train_index], X.iloc[test_index]\n",
    "    y_train, y_valid = y.iloc[train_index], y.iloc[test_index]\n",
    "    \n",
    "\n",
    "    model.fit(X_train, y_train, \n",
    "            eval_set=[(X_train, y_train), (X_valid, y_valid)], eval_metric='rmse',\n",
    "            verbose=500, early_stopping_rounds=10)\n",
    "    \n",
    "    y_pred = model.predict(X_test, num_iteration=model.best_iteration_)\n",
    "    prediction += y_pred\n",
    "prediction /= n_fold"
   ]
  },
  {
   "cell_type": "code",
   "execution_count": null,
   "metadata": {},
   "outputs": [],
   "source": [
    "from catboost import CatBoostRegressor"
   ]
  },
  {
   "cell_type": "code",
   "execution_count": null,
   "metadata": {},
   "outputs": [],
   "source": [
    "X_train, X_test, y_train, y_test = train_test_split(X, y, test_size = 0.20, random_state=3)"
   ]
  },
  {
   "cell_type": "code",
   "execution_count": null,
   "metadata": {},
   "outputs": [],
   "source": [
    "model = CatBoostRegressor(iterations=1000,\n",
    "                             learning_rate=0.1,\n",
    "                             depth=10,\n",
    "                             eval_metric='RMSE',\n",
    "                             random_seed = 42,\n",
    "                             bagging_temperature = 0.2,\n",
    "                             od_type='Iter',\n",
    "                             #metric_period = 50,\n",
    "                             od_wait=20)\n",
    "model.fit(X_train, y_train,\n",
    "              eval_set=(X_test, y_test),\n",
    "              use_best_model=True,\n",
    "              verbose=True)\n",
    "    \n",
    "pred_train = model.predict(X_train)\n",
    "pred_test = model.predict(X_test)\n",
    "pred_submit = model.predict(x_test)\n"
   ]
  }
 ],
 "metadata": {
  "kernelspec": {
   "display_name": "Python 3",
   "language": "python",
   "name": "python3"
  },
  "language_info": {
   "codemirror_mode": {
    "name": "ipython",
    "version": 3
   },
   "file_extension": ".py",
   "mimetype": "text/x-python",
   "name": "python",
   "nbconvert_exporter": "python",
   "pygments_lexer": "ipython3",
   "version": "3.6.3"
  }
 },
 "nbformat": 4,
 "nbformat_minor": 2
}
