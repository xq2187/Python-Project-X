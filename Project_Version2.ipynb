{
 "cells": [
  {
   "cell_type": "code",
   "execution_count": 347,
   "metadata": {},
   "outputs": [],
   "source": [
    "#import necessary libraries\n",
    "import numpy as np\n",
    "import pandas as pd\n",
    "%matplotlib inline\n",
    "import matplotlib.pyplot as plt\n",
    "import seaborn as sns\n",
    "color = sns.color_palette()\n",
    "sns.set_style('darkgrid')\n",
    "import warnings\n",
    "from scipy import stats\n",
    "from scipy.stats import norm, skew #for some statistics"
   ]
  },
  {
   "cell_type": "code",
   "execution_count": 348,
   "metadata": {},
   "outputs": [
    {
     "name": "stderr",
     "output_type": "stream",
     "text": [
      "G:\\Anaconda3\\lib\\site-packages\\IPython\\core\\interactiveshell.py:2785: DtypeWarning: Columns (20,22,25,26,27,31,32,33,36,37,38,39,40,41,42,43,44,45,46,47,48,49,50,51,52,53,55,56,57,60,61,64) have mixed types. Specify dtype option on import or set low_memory=False.\n",
      "  interactivity=interactivity, compiler=compiler, result=result)\n"
     ]
    }
   ],
   "source": [
    "#import data\n",
    "path = 'F:/Dropbox/Columbia MSBA/IEOR E4501 Tools for Analytics/Project/airbnb-price-prediction/data.csv'\n",
    "data = pd.read_csv(path)"
   ]
  },
  {
   "cell_type": "code",
   "execution_count": 349,
   "metadata": {},
   "outputs": [
    {
     "data": {
      "text/html": [
       "<div>\n",
       "<style scoped>\n",
       "    .dataframe tbody tr th:only-of-type {\n",
       "        vertical-align: middle;\n",
       "    }\n",
       "\n",
       "    .dataframe tbody tr th {\n",
       "        vertical-align: top;\n",
       "    }\n",
       "\n",
       "    .dataframe thead th {\n",
       "        text-align: right;\n",
       "    }\n",
       "</style>\n",
       "<table border=\"1\" class=\"dataframe\">\n",
       "  <thead>\n",
       "    <tr style=\"text-align: right;\">\n",
       "      <th></th>\n",
       "      <th>id</th>\n",
       "      <th>log_price</th>\n",
       "      <th>property_type</th>\n",
       "      <th>room_type</th>\n",
       "      <th>accommodates</th>\n",
       "      <th>bathrooms</th>\n",
       "      <th>bed_type</th>\n",
       "      <th>cancellation_policy</th>\n",
       "      <th>cleaning_fee</th>\n",
       "      <th>city</th>\n",
       "      <th>...</th>\n",
       "      <th>Unnamed: 58</th>\n",
       "      <th>Unnamed: 59</th>\n",
       "      <th>Unnamed: 60</th>\n",
       "      <th>Unnamed: 61</th>\n",
       "      <th>Unnamed: 62</th>\n",
       "      <th>Unnamed: 63</th>\n",
       "      <th>Unnamed: 64</th>\n",
       "      <th>Unnamed: 65</th>\n",
       "      <th>Unnamed: 66</th>\n",
       "      <th>Unnamed: 67</th>\n",
       "    </tr>\n",
       "  </thead>\n",
       "  <tbody>\n",
       "    <tr>\n",
       "      <th>0</th>\n",
       "      <td>20605308</td>\n",
       "      <td>6.684612</td>\n",
       "      <td>House</td>\n",
       "      <td>Entire home/apt</td>\n",
       "      <td>16</td>\n",
       "      <td>5.0</td>\n",
       "      <td>Real Bed</td>\n",
       "      <td>strict</td>\n",
       "      <td>True</td>\n",
       "      <td>NYC</td>\n",
       "      <td>...</td>\n",
       "      <td>NaN</td>\n",
       "      <td>NaN</td>\n",
       "      <td>NaN</td>\n",
       "      <td>NaN</td>\n",
       "      <td>NaN</td>\n",
       "      <td>NaN</td>\n",
       "      <td>NaN</td>\n",
       "      <td>NaN</td>\n",
       "      <td>NaN</td>\n",
       "      <td>NaN</td>\n",
       "    </tr>\n",
       "    <tr>\n",
       "      <th>1</th>\n",
       "      <td>2186452</td>\n",
       "      <td>6.388561</td>\n",
       "      <td>House</td>\n",
       "      <td>Entire home/apt</td>\n",
       "      <td>16</td>\n",
       "      <td>7.0</td>\n",
       "      <td>Real Bed</td>\n",
       "      <td>strict</td>\n",
       "      <td>False</td>\n",
       "      <td>LA</td>\n",
       "      <td>...</td>\n",
       "      <td>NaN</td>\n",
       "      <td>NaN</td>\n",
       "      <td>NaN</td>\n",
       "      <td>NaN</td>\n",
       "      <td>NaN</td>\n",
       "      <td>NaN</td>\n",
       "      <td>NaN</td>\n",
       "      <td>NaN</td>\n",
       "      <td>NaN</td>\n",
       "      <td>NaN</td>\n",
       "    </tr>\n",
       "    <tr>\n",
       "      <th>2</th>\n",
       "      <td>17764355</td>\n",
       "      <td>5.700444</td>\n",
       "      <td>House</td>\n",
       "      <td>Entire home/apt</td>\n",
       "      <td>16</td>\n",
       "      <td>5.0</td>\n",
       "      <td>Real Bed</td>\n",
       "      <td>strict</td>\n",
       "      <td>True</td>\n",
       "      <td>Chicago</td>\n",
       "      <td>...</td>\n",
       "      <td>NaN</td>\n",
       "      <td>NaN</td>\n",
       "      <td>NaN</td>\n",
       "      <td>NaN</td>\n",
       "      <td>NaN</td>\n",
       "      <td>NaN</td>\n",
       "      <td>NaN</td>\n",
       "      <td>NaN</td>\n",
       "      <td>NaN</td>\n",
       "      <td>NaN</td>\n",
       "    </tr>\n",
       "    <tr>\n",
       "      <th>3</th>\n",
       "      <td>1446537</td>\n",
       "      <td>7.170120</td>\n",
       "      <td>House</td>\n",
       "      <td>Entire home/apt</td>\n",
       "      <td>16</td>\n",
       "      <td>7.0</td>\n",
       "      <td>Real Bed</td>\n",
       "      <td>flexible</td>\n",
       "      <td>False</td>\n",
       "      <td>LA</td>\n",
       "      <td>...</td>\n",
       "      <td>NaN</td>\n",
       "      <td>NaN</td>\n",
       "      <td>NaN</td>\n",
       "      <td>NaN</td>\n",
       "      <td>NaN</td>\n",
       "      <td>NaN</td>\n",
       "      <td>NaN</td>\n",
       "      <td>NaN</td>\n",
       "      <td>NaN</td>\n",
       "      <td>NaN</td>\n",
       "    </tr>\n",
       "    <tr>\n",
       "      <th>4</th>\n",
       "      <td>13399619</td>\n",
       "      <td>6.257668</td>\n",
       "      <td>House</td>\n",
       "      <td>Entire home/apt</td>\n",
       "      <td>16</td>\n",
       "      <td>4.0</td>\n",
       "      <td>Real Bed</td>\n",
       "      <td>flexible</td>\n",
       "      <td>False</td>\n",
       "      <td>NYC</td>\n",
       "      <td>...</td>\n",
       "      <td>NaN</td>\n",
       "      <td>NaN</td>\n",
       "      <td>NaN</td>\n",
       "      <td>NaN</td>\n",
       "      <td>NaN</td>\n",
       "      <td>NaN</td>\n",
       "      <td>NaN</td>\n",
       "      <td>NaN</td>\n",
       "      <td>NaN</td>\n",
       "      <td>NaN</td>\n",
       "    </tr>\n",
       "  </tbody>\n",
       "</table>\n",
       "<p>5 rows × 68 columns</p>\n",
       "</div>"
      ],
      "text/plain": [
       "         id  log_price property_type        room_type  accommodates  \\\n",
       "0  20605308   6.684612         House  Entire home/apt            16   \n",
       "1   2186452   6.388561         House  Entire home/apt            16   \n",
       "2  17764355   5.700444         House  Entire home/apt            16   \n",
       "3   1446537   7.170120         House  Entire home/apt            16   \n",
       "4  13399619   6.257668         House  Entire home/apt            16   \n",
       "\n",
       "   bathrooms  bed_type cancellation_policy  cleaning_fee     city     ...      \\\n",
       "0        5.0  Real Bed              strict          True      NYC     ...       \n",
       "1        7.0  Real Bed              strict         False       LA     ...       \n",
       "2        5.0  Real Bed              strict          True  Chicago     ...       \n",
       "3        7.0  Real Bed            flexible         False       LA     ...       \n",
       "4        4.0  Real Bed            flexible         False      NYC     ...       \n",
       "\n",
       "  Unnamed: 58 Unnamed: 59  Unnamed: 60 Unnamed: 61 Unnamed: 62  Unnamed: 63  \\\n",
       "0         NaN         NaN          NaN         NaN         NaN          NaN   \n",
       "1         NaN         NaN          NaN         NaN         NaN          NaN   \n",
       "2         NaN         NaN          NaN         NaN         NaN          NaN   \n",
       "3         NaN         NaN          NaN         NaN         NaN          NaN   \n",
       "4         NaN         NaN          NaN         NaN         NaN          NaN   \n",
       "\n",
       "  Unnamed: 64  Unnamed: 65  Unnamed: 66 Unnamed: 67  \n",
       "0         NaN          NaN          NaN         NaN  \n",
       "1         NaN          NaN          NaN         NaN  \n",
       "2         NaN          NaN          NaN         NaN  \n",
       "3         NaN          NaN          NaN         NaN  \n",
       "4         NaN          NaN          NaN         NaN  \n",
       "\n",
       "[5 rows x 68 columns]"
      ]
     },
     "execution_count": 349,
     "metadata": {},
     "output_type": "execute_result"
    }
   ],
   "source": [
    "data.head()"
   ]
  },
  {
   "cell_type": "code",
   "execution_count": 350,
   "metadata": {},
   "outputs": [
    {
     "data": {
      "text/plain": [
       "65282"
      ]
     },
     "execution_count": 350,
     "metadata": {},
     "output_type": "execute_result"
    }
   ],
   "source": [
    "len(data)\n"
   ]
  },
  {
   "cell_type": "code",
   "execution_count": 351,
   "metadata": {},
   "outputs": [
    {
     "data": {
      "text/plain": [
       "Index(['id', 'log_price', 'property_type', 'room_type', 'accommodates',\n",
       "       'bathrooms', 'bed_type', 'cancellation_policy', 'cleaning_fee', 'city',\n",
       "       'first_review', 'host_has_profile_pic', 'host_identity_verified',\n",
       "       'host_response_rate', 'host_since', 'instant_bookable', 'last_review',\n",
       "       'latitude', 'longitude', 'neighbourhood', 'number_of_reviews',\n",
       "       'review_scores_rating', 'zipcode', 'bedrooms', 'beds', 'Unnamed: 25',\n",
       "       'Unnamed: 26', 'Unnamed: 27', 'Unnamed: 28', 'Unnamed: 29',\n",
       "       'Unnamed: 30', 'Unnamed: 31', 'Unnamed: 32', 'Unnamed: 33',\n",
       "       'Unnamed: 34', 'Unnamed: 35', 'Unnamed: 36', 'Unnamed: 37',\n",
       "       'Unnamed: 38', 'Unnamed: 39', 'Unnamed: 40', 'Unnamed: 41',\n",
       "       'Unnamed: 42', 'Unnamed: 43', 'Unnamed: 44', 'Unnamed: 45',\n",
       "       'Unnamed: 46', 'Unnamed: 47', 'Unnamed: 48', 'Unnamed: 49',\n",
       "       'Unnamed: 50', 'Unnamed: 51', 'Unnamed: 52', 'Unnamed: 53',\n",
       "       'Unnamed: 54', 'Unnamed: 55', 'Unnamed: 56', 'Unnamed: 57',\n",
       "       'Unnamed: 58', 'Unnamed: 59', 'Unnamed: 60', 'Unnamed: 61',\n",
       "       'Unnamed: 62', 'Unnamed: 63', 'Unnamed: 64', 'Unnamed: 65',\n",
       "       'Unnamed: 66', 'Unnamed: 67'],\n",
       "      dtype='object')"
      ]
     },
     "execution_count": 351,
     "metadata": {},
     "output_type": "execute_result"
    }
   ],
   "source": [
    "data.columns"
   ]
  },
  {
   "cell_type": "code",
   "execution_count": 352,
   "metadata": {},
   "outputs": [
    {
     "data": {
      "text/plain": [
       "Index(['id', 'log_price', 'property_type', 'room_type', 'accommodates',\n",
       "       'bathrooms', 'bed_type', 'cancellation_policy', 'cleaning_fee', 'city',\n",
       "       'first_review', 'host_has_profile_pic', 'host_identity_verified',\n",
       "       'host_response_rate', 'host_since', 'instant_bookable', 'last_review',\n",
       "       'latitude', 'longitude', 'neighbourhood', 'number_of_reviews',\n",
       "       'review_scores_rating', 'zipcode', 'bedrooms', 'beds'],\n",
       "      dtype='object')"
      ]
     },
     "execution_count": 352,
     "metadata": {},
     "output_type": "execute_result"
    }
   ],
   "source": [
    "del_cols=['Unnamed: 25',\n",
    "       'Unnamed: 26', 'Unnamed: 27', 'Unnamed: 28', 'Unnamed: 29',\n",
    "       'Unnamed: 30', 'Unnamed: 31', 'Unnamed: 32', 'Unnamed: 33',\n",
    "       'Unnamed: 34', 'Unnamed: 35', 'Unnamed: 36', 'Unnamed: 37',\n",
    "       'Unnamed: 38', 'Unnamed: 39', 'Unnamed: 40', 'Unnamed: 41',\n",
    "       'Unnamed: 42', 'Unnamed: 43', 'Unnamed: 44', 'Unnamed: 45',\n",
    "       'Unnamed: 46', 'Unnamed: 47', 'Unnamed: 48', 'Unnamed: 49',\n",
    "       'Unnamed: 50', 'Unnamed: 51', 'Unnamed: 52', 'Unnamed: 53',\n",
    "       'Unnamed: 54', 'Unnamed: 55', 'Unnamed: 56', 'Unnamed: 57',\n",
    "       'Unnamed: 58', 'Unnamed: 59', 'Unnamed: 60', 'Unnamed: 61',\n",
    "       'Unnamed: 62', 'Unnamed: 63', 'Unnamed: 64', 'Unnamed: 65',\n",
    "       'Unnamed: 66', 'Unnamed: 67']\n",
    "data.drop(del_cols,axis=1,inplace=True)\n",
    "data.columns"
   ]
  },
  {
   "cell_type": "code",
   "execution_count": 353,
   "metadata": {},
   "outputs": [
    {
     "data": {
      "text/html": [
       "<div>\n",
       "<style scoped>\n",
       "    .dataframe tbody tr th:only-of-type {\n",
       "        vertical-align: middle;\n",
       "    }\n",
       "\n",
       "    .dataframe tbody tr th {\n",
       "        vertical-align: top;\n",
       "    }\n",
       "\n",
       "    .dataframe thead th {\n",
       "        text-align: right;\n",
       "    }\n",
       "</style>\n",
       "<table border=\"1\" class=\"dataframe\">\n",
       "  <thead>\n",
       "    <tr style=\"text-align: right;\">\n",
       "      <th></th>\n",
       "      <th>Count</th>\n",
       "      <th>Column Type</th>\n",
       "    </tr>\n",
       "  </thead>\n",
       "  <tbody>\n",
       "    <tr>\n",
       "      <th>0</th>\n",
       "      <td>id</td>\n",
       "      <td>int64</td>\n",
       "    </tr>\n",
       "    <tr>\n",
       "      <th>1</th>\n",
       "      <td>log_price</td>\n",
       "      <td>float64</td>\n",
       "    </tr>\n",
       "    <tr>\n",
       "      <th>2</th>\n",
       "      <td>property_type</td>\n",
       "      <td>object</td>\n",
       "    </tr>\n",
       "    <tr>\n",
       "      <th>3</th>\n",
       "      <td>room_type</td>\n",
       "      <td>object</td>\n",
       "    </tr>\n",
       "    <tr>\n",
       "      <th>4</th>\n",
       "      <td>accommodates</td>\n",
       "      <td>int64</td>\n",
       "    </tr>\n",
       "    <tr>\n",
       "      <th>5</th>\n",
       "      <td>bathrooms</td>\n",
       "      <td>float64</td>\n",
       "    </tr>\n",
       "    <tr>\n",
       "      <th>6</th>\n",
       "      <td>bed_type</td>\n",
       "      <td>object</td>\n",
       "    </tr>\n",
       "    <tr>\n",
       "      <th>7</th>\n",
       "      <td>cancellation_policy</td>\n",
       "      <td>object</td>\n",
       "    </tr>\n",
       "    <tr>\n",
       "      <th>8</th>\n",
       "      <td>cleaning_fee</td>\n",
       "      <td>bool</td>\n",
       "    </tr>\n",
       "    <tr>\n",
       "      <th>9</th>\n",
       "      <td>city</td>\n",
       "      <td>object</td>\n",
       "    </tr>\n",
       "    <tr>\n",
       "      <th>10</th>\n",
       "      <td>first_review</td>\n",
       "      <td>object</td>\n",
       "    </tr>\n",
       "    <tr>\n",
       "      <th>11</th>\n",
       "      <td>host_has_profile_pic</td>\n",
       "      <td>object</td>\n",
       "    </tr>\n",
       "    <tr>\n",
       "      <th>12</th>\n",
       "      <td>host_identity_verified</td>\n",
       "      <td>bool</td>\n",
       "    </tr>\n",
       "    <tr>\n",
       "      <th>13</th>\n",
       "      <td>host_response_rate</td>\n",
       "      <td>object</td>\n",
       "    </tr>\n",
       "    <tr>\n",
       "      <th>14</th>\n",
       "      <td>host_since</td>\n",
       "      <td>object</td>\n",
       "    </tr>\n",
       "    <tr>\n",
       "      <th>15</th>\n",
       "      <td>instant_bookable</td>\n",
       "      <td>bool</td>\n",
       "    </tr>\n",
       "    <tr>\n",
       "      <th>16</th>\n",
       "      <td>last_review</td>\n",
       "      <td>object</td>\n",
       "    </tr>\n",
       "    <tr>\n",
       "      <th>17</th>\n",
       "      <td>latitude</td>\n",
       "      <td>float64</td>\n",
       "    </tr>\n",
       "    <tr>\n",
       "      <th>18</th>\n",
       "      <td>longitude</td>\n",
       "      <td>float64</td>\n",
       "    </tr>\n",
       "    <tr>\n",
       "      <th>19</th>\n",
       "      <td>neighbourhood</td>\n",
       "      <td>object</td>\n",
       "    </tr>\n",
       "    <tr>\n",
       "      <th>20</th>\n",
       "      <td>number_of_reviews</td>\n",
       "      <td>object</td>\n",
       "    </tr>\n",
       "    <tr>\n",
       "      <th>21</th>\n",
       "      <td>review_scores_rating</td>\n",
       "      <td>float64</td>\n",
       "    </tr>\n",
       "    <tr>\n",
       "      <th>22</th>\n",
       "      <td>zipcode</td>\n",
       "      <td>object</td>\n",
       "    </tr>\n",
       "    <tr>\n",
       "      <th>23</th>\n",
       "      <td>bedrooms</td>\n",
       "      <td>float64</td>\n",
       "    </tr>\n",
       "    <tr>\n",
       "      <th>24</th>\n",
       "      <td>beds</td>\n",
       "      <td>float64</td>\n",
       "    </tr>\n",
       "  </tbody>\n",
       "</table>\n",
       "</div>"
      ],
      "text/plain": [
       "                     Count Column Type\n",
       "0                       id       int64\n",
       "1                log_price     float64\n",
       "2            property_type      object\n",
       "3                room_type      object\n",
       "4             accommodates       int64\n",
       "5                bathrooms     float64\n",
       "6                 bed_type      object\n",
       "7      cancellation_policy      object\n",
       "8             cleaning_fee        bool\n",
       "9                     city      object\n",
       "10            first_review      object\n",
       "11    host_has_profile_pic      object\n",
       "12  host_identity_verified        bool\n",
       "13      host_response_rate      object\n",
       "14              host_since      object\n",
       "15        instant_bookable        bool\n",
       "16             last_review      object\n",
       "17                latitude     float64\n",
       "18               longitude     float64\n",
       "19           neighbourhood      object\n",
       "20       number_of_reviews      object\n",
       "21    review_scores_rating     float64\n",
       "22                 zipcode      object\n",
       "23                bedrooms     float64\n",
       "24                    beds     float64"
      ]
     },
     "execution_count": 353,
     "metadata": {},
     "output_type": "execute_result"
    }
   ],
   "source": [
    "# check the dtypes of different types of variable.\n",
    "pd.options.display.max_rows = 65\n",
    "dtypes = data.dtypes.reset_index()\n",
    "dtypes.columns = [\"Count\", \"Column Type\"]\n",
    "dtypes"
   ]
  },
  {
   "cell_type": "code",
   "execution_count": 354,
   "metadata": {},
   "outputs": [
    {
     "data": {
      "text/html": [
       "<div>\n",
       "<style scoped>\n",
       "    .dataframe tbody tr th:only-of-type {\n",
       "        vertical-align: middle;\n",
       "    }\n",
       "\n",
       "    .dataframe tbody tr th {\n",
       "        vertical-align: top;\n",
       "    }\n",
       "\n",
       "    .dataframe thead th {\n",
       "        text-align: right;\n",
       "    }\n",
       "</style>\n",
       "<table border=\"1\" class=\"dataframe\">\n",
       "  <thead>\n",
       "    <tr style=\"text-align: right;\">\n",
       "      <th></th>\n",
       "      <th>Column Type</th>\n",
       "      <th>Count</th>\n",
       "    </tr>\n",
       "  </thead>\n",
       "  <tbody>\n",
       "    <tr>\n",
       "      <th>0</th>\n",
       "      <td>bool</td>\n",
       "      <td>3</td>\n",
       "    </tr>\n",
       "    <tr>\n",
       "      <th>1</th>\n",
       "      <td>int64</td>\n",
       "      <td>2</td>\n",
       "    </tr>\n",
       "    <tr>\n",
       "      <th>2</th>\n",
       "      <td>float64</td>\n",
       "      <td>7</td>\n",
       "    </tr>\n",
       "    <tr>\n",
       "      <th>3</th>\n",
       "      <td>object</td>\n",
       "      <td>13</td>\n",
       "    </tr>\n",
       "  </tbody>\n",
       "</table>\n",
       "</div>"
      ],
      "text/plain": [
       "  Column Type  Count\n",
       "0        bool      3\n",
       "1       int64      2\n",
       "2     float64      7\n",
       "3      object     13"
      ]
     },
     "execution_count": 354,
     "metadata": {},
     "output_type": "execute_result"
    }
   ],
   "source": [
    "dtypes.groupby(\"Column Type\").aggregate('count').reset_index()"
   ]
  },
  {
   "cell_type": "code",
   "execution_count": 355,
   "metadata": {},
   "outputs": [],
   "source": [
    "# divide the variables into numerical variables and categorical variables\n",
    "num_var=['accommodates','bathrooms','cancellation_fee','first_view','host_response_rate','host_since','latitude','longitude','number_of_reviews','review_scores_rating',\n",
    "        'zipcode','bedrooms','beds']\n",
    "cate_var=['property_type','room_type','bed_type','cancellation_policy','city','host_has_profile_pic','host_identity_verified','instant_bookable','neighbourhood']"
   ]
  },
  {
   "cell_type": "code",
   "execution_count": 356,
   "metadata": {},
   "outputs": [
    {
     "data": {
      "text/plain": [
       "count    65282.000000\n",
       "mean         4.785188\n",
       "std          0.714140\n",
       "min          0.000000\n",
       "25%          4.317488\n",
       "50%          4.718499\n",
       "75%          5.220356\n",
       "max          7.600402\n",
       "Name: log_price, dtype: float64"
      ]
     },
     "execution_count": 356,
     "metadata": {},
     "output_type": "execute_result"
    }
   ],
   "source": [
    "# describe log_price# descr \n",
    "data['log_price'].describe()"
   ]
  },
  {
   "cell_type": "code",
   "execution_count": 357,
   "metadata": {},
   "outputs": [],
   "source": [
    "#calculete Target variable\n",
    "data['Saleprice']=np.exp(data['log_price'])"
   ]
  },
  {
   "cell_type": "code",
   "execution_count": 358,
   "metadata": {},
   "outputs": [
    {
     "data": {
      "image/png": "[encoded data removed]",
      "text/plain": [
       "<Figure size 432x288 with 1 Axes>"
      ]
     },
     "metadata": {},
     "output_type": "display_data"
    }
   ],
   "source": [
    "def drawHist(heights):\n",
    "    plt.hist(heights, 20)\n",
    "    plt.xlabel('Saleprice')\n",
    "    plt.ylabel('Frequency')\n",
    "    plt.title('Histogram of Saleprice')\n",
    "    plt.show()\n",
    "drawHist(data['Saleprice'])"
   ]
  },
  {
   "cell_type": "code",
   "execution_count": 359,
   "metadata": {},
   "outputs": [
    {
     "data": {
      "image/png": "[encoded data removed]",
      "text/plain": [
       "<Figure size 432x288 with 1 Axes>"
      ]
     },
     "metadata": {},
     "output_type": "display_data"
    }
   ],
   "source": [
    "drawHist(data['log_price'])"
   ]
  },
  {
   "cell_type": "code",
   "execution_count": 360,
   "metadata": {},
   "outputs": [],
   "source": [
    "data.drop('host_response_rate', axis=1, inplace=True)"
   ]
  },
  {
   "cell_type": "code",
   "execution_count": 361,
   "metadata": {},
   "outputs": [
    {
     "data": {
      "image/png": "[encoded data removed]",
      "text/plain": [
       "<Figure size 432x288 with 1 Axes>"
      ]
     },
     "metadata": {},
     "output_type": "display_data"
    }
   ],
   "source": [
    "\n",
    "# plot probability distribution# plot  \n",
    "fig = plt.figure()\n",
    "res = stats.probplot(data['log_price'], plot=plt)\n",
    "plt.show()"
   ]
  },
  {
   "cell_type": "code",
   "execution_count": 362,
   "metadata": {},
   "outputs": [],
   "source": [
    "# deal with dates\n",
    "import time\n",
    "import datetime\n",
    "def dif_time(date):\n",
    "    now_time = datetime.datetime.now()\n",
    "    now_time = now_time.strftime('%Y/%m/%d')\n",
    "    d2 = datetime.datetime.strptime(now_time, '%Y/%m/%d')\n",
    "    if str(date) !='nan':\n",
    "        d1 = datetime.datetime.strptime(str(date),'%Y/%m/%d')\n",
    "        day = (d2 - d1).days\n",
    "        return day\n",
    "    else:\n",
    "        return None"
   ]
  },
  {
   "cell_type": "code",
   "execution_count": 363,
   "metadata": {},
   "outputs": [],
   "source": [
    "#transform date to days\n",
    "dates_to_transform=['first_review','host_since','last_review']\n",
    "for col in dates_to_transform:\n",
    "    data[col]=data[col].apply(dif_time)"
   ]
  },
  {
   "cell_type": "code",
   "execution_count": 364,
   "metadata": {},
   "outputs": [],
   "source": [
    "for u in data.columns:\n",
    "    if data[u].dtype==bool:\n",
    "        data[u]=data[u].astype('int')"
   ]
  },
  {
   "cell_type": "code",
   "execution_count": 365,
   "metadata": {},
   "outputs": [
    {
     "data": {
      "image/png": "[encoded data removed]",
      "text/plain": [
       "<Figure size 1080x720 with 2 Axes>"
      ]
     },
     "metadata": {},
     "output_type": "display_data"
    }
   ],
   "source": [
    "#plot correlation matrix\n",
    "import seaborn as sns\n",
    "color = sns.color_palette()\n",
    "sns.set_style('darkgrid')\n",
    "\n",
    "def correlation_map(df):\n",
    "    correlation = data.corr()\n",
    "    plt.subplots(figsize=(15,10))\n",
    "    plt.title('Correlation Map', fontsize=20)\n",
    "    sns.heatmap(correlation, xticklabels=correlation.columns, yticklabels=correlation.columns)\n",
    "    \n",
    "correlation_map(data)"
   ]
  },
  {
   "cell_type": "code",
   "execution_count": 366,
   "metadata": {},
   "outputs": [
    {
     "data": {
      "image/png": "[encoded data removed]",
      "text/plain": [
       "<Figure size 432x288 with 1 Axes>"
      ]
     },
     "metadata": {},
     "output_type": "display_data"
    },
    {
     "data": {
      "image/png": "[encoded data removed]",
      "text/plain": [
       "<Figure size 432x288 with 1 Axes>"
      ]
     },
     "metadata": {},
     "output_type": "display_data"
    },
    {
     "data": {
      "image/png": "[encoded data removed]",
      "text/plain": [
       "<Figure size 432x288 with 1 Axes>"
      ]
     },
     "metadata": {},
     "output_type": "display_data"
    },
    {
     "data": {
      "image/png": "[encoded data removed]",
      "text/plain": [
       "<Figure size 432x288 with 1 Axes>"
      ]
     },
     "metadata": {},
     "output_type": "display_data"
    },
    {
     "data": {
      "image/png": "[encoded data removed]",
      "text/plain": [
       "<Figure size 432x288 with 1 Axes>"
      ]
     },
     "metadata": {},
     "output_type": "display_data"
    },
    {
     "name": "stderr",
     "output_type": "stream",
     "text": [
      "G:\\Anaconda3\\lib\\site-packages\\seaborn\\axisgrid.py:2262: UserWarning: The `size` paramter has been renamed to `height`; please update your code.\n",
      "  warnings.warn(msg, UserWarning)\n",
      "G:\\Anaconda3\\lib\\site-packages\\scipy\\stats\\stats.py:1713: FutureWarning: Using a non-tuple sequence for multidimensional indexing is deprecated; use `arr[tuple(seq)]` instead of `arr[seq]`. In the future this will be interpreted as an array index, `arr[np.array(seq)]`, which will result either in an error or a different result.\n",
      "  return np.add.reduce(sorted[indexer] * weights, axis=axis) / sumval\n"
     ]
    },
    {
     "data": {
      "text/plain": [
       "<Figure size 864x864 with 0 Axes>"
      ]
     },
     "metadata": {},
     "output_type": "display_data"
    },
    {
     "data": {
      "image/png": "[encoded data removed]",
      "text/plain": [
       "<Figure size 1440x1440 with 3 Axes>"
      ]
     },
     "metadata": {},
     "output_type": "display_data"
    }
   ],
   "source": [
    "# scatter plot \n",
    "# log_price vs bedrooms\n",
    "fig, ax = plt.subplots()\n",
    "ax.scatter(data['bedrooms'], data['log_price'])\n",
    "plt.ylabel('log_price', fontsize=13)\n",
    "plt.xlabel('bedrooms', fontsize=13)\n",
    "plt.show()\n",
    "\n",
    "# log_price vs accomodates\n",
    "fig, ax = plt.subplots()\n",
    "ax.scatter(data['accommodates'], data['log_price'])\n",
    "plt.ylabel('log_price', fontsize=13)\n",
    "plt.xlabel('accommodates', fontsize=13)\n",
    "plt.show()\n",
    "\n",
    "# log_price vs bathrooms\n",
    "fig, ax = plt.subplots()\n",
    "ax.scatter(data['bathrooms'], data['log_price'])\n",
    "plt.ylabel('log_price', fontsize=13)\n",
    "plt.xlabel('bathrooms', fontsize=13)\n",
    "plt.show()\n",
    "\n",
    "# log_price vs beds\n",
    "fig, ax = plt.subplots()\n",
    "ax.scatter(data['beds'], data['log_price'])\n",
    "plt.ylabel('log_price', fontsize=13)\n",
    "plt.xlabel('beds', fontsize=13)\n",
    "plt.show()\n",
    "\n",
    "# log_price vs review_scores_rating\n",
    "fig, ax = plt.subplots()\n",
    "ax.scatter(data['review_scores_rating'], data['log_price'])\n",
    "plt.ylabel('log_price', fontsize=13)\n",
    "plt.xlabel('review_scores_rating', fontsize=13)\n",
    "plt.show()\n",
    "\n",
    "# explore the latitude and longitude variable\n",
    "plt.figure(figsize=(12,12))\n",
    "sns.jointplot(x=data.latitude.values, y=data.longitude.values, size=20)\n",
    "plt.ylabel('Longitude', fontsize=12)\n",
    "plt.xlabel('Latitude', fontsize=12)\n",
    "plt.show()"
   ]
  },
  {
   "cell_type": "code",
   "execution_count": 367,
   "metadata": {},
   "outputs": [
    {
     "data": {
      "text/plain": [
       "(-0.5, 4.5, 0, 10)"
      ]
     },
     "execution_count": 367,
     "metadata": {},
     "output_type": "execute_result"
    },
    {
     "data": {
      "image/png": "[encoded data removed]",
      "text/plain": [
       "<Figure size 576x432 with 1 Axes>"
      ]
     },
     "metadata": {},
     "output_type": "display_data"
    },
    {
     "data": {
      "image/png": "[encoded data removed]",
      "text/plain": [
       "<Figure size 576x432 with 1 Axes>"
      ]
     },
     "metadata": {},
     "output_type": "display_data"
    },
    {
     "data": {
      "image/png": "[encoded data removed]",
      "text/plain": [
       "<Figure size 576x432 with 1 Axes>"
      ]
     },
     "metadata": {},
     "output_type": "display_data"
    },
    {
     "data": {
      "image/png": "[encoded data removed]",
      "text/plain": [
       "<Figure size 576x432 with 1 Axes>"
      ]
     },
     "metadata": {},
     "output_type": "display_data"
    }
   ],
   "source": [
    "# box plot\n",
    "# log_price vs city\n",
    "var = 'city'\n",
    "price_data = pd.concat([data['log_price'], data[var]], axis=1)\n",
    "f,ax = plt.subplots(figsize=(8, 6))\n",
    "fig = sns.boxplot(x=var, y=\"log_price\", data=price_data)\n",
    "fig.axis(ymin=0, ymax=10)\n",
    "\n",
    "# log_price vs room_type\n",
    "var = 'room_type'\n",
    "price_data = pd.concat([data['log_price'], data[var]], axis=1)\n",
    "f,ax = plt.subplots(figsize=(8, 6))\n",
    "fig = sns.boxplot(x=var, y=\"log_price\", data=price_data)\n",
    "fig.axis(ymin=0, ymax=10)\n",
    "\n",
    "# # log_price vs property_type\n",
    "# var = 'property_type'\n",
    "# price_data = pd.concat([data['log_price'], data[var]], axis=1)\n",
    "# f,ax = plt.subplots(figsize=(8, 6))\n",
    "# fig = sns.boxplot(x=var, y=\"log_price\", data=price_data)\n",
    "# fig.axis(ymin=0, ymax=10)\n",
    "\n",
    "# log_price vs bed_type\n",
    "var = 'bed_type'\n",
    "price_data = pd.concat([data['log_price'], data[var]], axis=1)\n",
    "f,ax = plt.subplots(figsize=(8, 6))\n",
    "fig = sns.boxplot(x=var, y=\"log_price\", data=price_data)\n",
    "fig.axis(ymin=0, ymax=10)\n",
    "\n",
    "# log_price vs cancellation_policy\n",
    "var = 'cancellation_policy'\n",
    "price_data = pd.concat([data['log_price'], data[var]], axis=1)\n",
    "f,ax = plt.subplots(figsize=(8, 6))\n",
    "fig = sns.boxplot(x=var, y=\"log_price\", data=price_data)\n",
    "fig.axis(ymin=0, ymax=10)"
   ]
  },
  {
   "cell_type": "code",
   "execution_count": 368,
   "metadata": {},
   "outputs": [
    {
     "name": "stderr",
     "output_type": "stream",
     "text": [
      "G:\\Anaconda3\\lib\\site-packages\\ipykernel_launcher.py:5: DeprecationWarning: \n",
      ".ix is deprecated. Please use\n",
      ".loc for label based indexing or\n",
      ".iloc for positional indexing\n",
      "\n",
      "See the documentation here:\n",
      "http://pandas.pydata.org/pandas-docs/stable/indexing.html#ix-indexer-is-deprecated\n",
      "  \"\"\"\n"
     ]
    },
    {
     "data": {
      "text/html": [
       "<div>\n",
       "<style scoped>\n",
       "    .dataframe tbody tr th:only-of-type {\n",
       "        vertical-align: middle;\n",
       "    }\n",
       "\n",
       "    .dataframe tbody tr th {\n",
       "        vertical-align: top;\n",
       "    }\n",
       "\n",
       "    .dataframe thead th {\n",
       "        text-align: right;\n",
       "    }\n",
       "</style>\n",
       "<table border=\"1\" class=\"dataframe\">\n",
       "  <thead>\n",
       "    <tr style=\"text-align: right;\">\n",
       "      <th></th>\n",
       "      <th>total_missing</th>\n",
       "      <th>missing_ratio</th>\n",
       "    </tr>\n",
       "  </thead>\n",
       "  <tbody>\n",
       "    <tr>\n",
       "      <th>review_scores_rating</th>\n",
       "      <td>13439</td>\n",
       "      <td>0.205861</td>\n",
       "    </tr>\n",
       "    <tr>\n",
       "      <th>first_review</th>\n",
       "      <td>12724</td>\n",
       "      <td>0.194908</td>\n",
       "    </tr>\n",
       "    <tr>\n",
       "      <th>last_review</th>\n",
       "      <td>12694</td>\n",
       "      <td>0.194449</td>\n",
       "    </tr>\n",
       "    <tr>\n",
       "      <th>neighbourhood</th>\n",
       "      <td>5178</td>\n",
       "      <td>0.079317</td>\n",
       "    </tr>\n",
       "    <tr>\n",
       "      <th>zipcode</th>\n",
       "      <td>759</td>\n",
       "      <td>0.011626</td>\n",
       "    </tr>\n",
       "    <tr>\n",
       "      <th>bathrooms</th>\n",
       "      <td>155</td>\n",
       "      <td>0.002374</td>\n",
       "    </tr>\n",
       "    <tr>\n",
       "      <th>host_has_profile_pic</th>\n",
       "      <td>146</td>\n",
       "      <td>0.002236</td>\n",
       "    </tr>\n",
       "    <tr>\n",
       "      <th>host_since</th>\n",
       "      <td>146</td>\n",
       "      <td>0.002236</td>\n",
       "    </tr>\n",
       "    <tr>\n",
       "      <th>beds</th>\n",
       "      <td>123</td>\n",
       "      <td>0.001884</td>\n",
       "    </tr>\n",
       "    <tr>\n",
       "      <th>bedrooms</th>\n",
       "      <td>66</td>\n",
       "      <td>0.001011</td>\n",
       "    </tr>\n",
       "    <tr>\n",
       "      <th>number_of_reviews</th>\n",
       "      <td>10</td>\n",
       "      <td>0.000153</td>\n",
       "    </tr>\n",
       "  </tbody>\n",
       "</table>\n",
       "</div>"
      ],
      "text/plain": [
       "                      total_missing  missing_ratio\n",
       "review_scores_rating          13439       0.205861\n",
       "first_review                  12724       0.194908\n",
       "last_review                   12694       0.194449\n",
       "neighbourhood                  5178       0.079317\n",
       "zipcode                         759       0.011626\n",
       "bathrooms                       155       0.002374\n",
       "host_has_profile_pic            146       0.002236\n",
       "host_since                      146       0.002236\n",
       "beds                            123       0.001884\n",
       "bedrooms                         66       0.001011\n",
       "number_of_reviews                10       0.000153"
      ]
     },
     "execution_count": 368,
     "metadata": {},
     "output_type": "execute_result"
    }
   ],
   "source": [
    "#calculate missing data\n",
    "total_missing = data.isnull().sum()\n",
    "missing_ratio = (data.isnull().sum()/data.isnull().count())\n",
    "missing_data = pd.concat([total_missing, missing_ratio], axis=1, keys=['total_missing', 'missing_ratio'])\n",
    "missing_data = missing_data.ix[missing_data['missing_ratio']>0]\n",
    "missing_data = missing_data.sort_values(by='missing_ratio',ascending=False)\n",
    "missing_data.head(20)"
   ]
  },
  {
   "cell_type": "code",
   "execution_count": 369,
   "metadata": {},
   "outputs": [
    {
     "data": {
      "text/plain": [
       "Text(0.5,1,'Ratio of missing data by properties')"
      ]
     },
     "execution_count": 369,
     "metadata": {},
     "output_type": "execute_result"
    },
    {
     "data": {
      "image/png": "[encoded data removed]",
      "text/plain": [
       "<Figure size 1296x720 with 1 Axes>"
      ]
     },
     "metadata": {},
     "output_type": "display_data"
    }
   ],
   "source": [
    "#plot ratio of missing\n",
    "f, ax = plt.subplots(figsize=(18, 10))\n",
    "plt.xticks(rotation='90')\n",
    "sns.barplot(x=missing_data.index, y=missing_data.missing_ratio)\n",
    "plt.xlabel('properties', fontsize=18)\n",
    "plt.ylabel('Ratio of missing values', fontsize=18)\n",
    "plt.title('Ratio of missing data by properties', fontsize=20)"
   ]
  },
  {
   "cell_type": "code",
   "execution_count": 370,
   "metadata": {},
   "outputs": [
    {
     "ename": "KeyError",
     "evalue": "\"['host_response_rate'] not found in axis\"",
     "output_type": "error",
     "traceback": [
      "\u001b[1;31m---------------------------------------------------------------------------\u001b[0m",
      "\u001b[1;31mKeyError\u001b[0m                                  Traceback (most recent call last)",
      "\u001b[1;32m<ipython-input-370-0ce99d8832b1>\u001b[0m in \u001b[0;36m<module>\u001b[1;34m()\u001b[0m\n\u001b[0;32m      1\u001b[0m \u001b[1;31m# to many missing_values\u001b[0m\u001b[1;33m\u001b[0m\u001b[1;33m\u001b[0m\u001b[0m\n\u001b[0;32m      2\u001b[0m \u001b[1;31m#delete column host_response_rate\u001b[0m\u001b[1;33m\u001b[0m\u001b[1;33m\u001b[0m\u001b[0m\n\u001b[1;32m----> 3\u001b[1;33m \u001b[0mdata\u001b[0m\u001b[1;33m.\u001b[0m\u001b[0mdrop\u001b[0m\u001b[1;33m(\u001b[0m\u001b[1;34m'host_response_rate'\u001b[0m\u001b[1;33m,\u001b[0m \u001b[0maxis\u001b[0m\u001b[1;33m=\u001b[0m\u001b[1;36m1\u001b[0m\u001b[1;33m,\u001b[0m \u001b[0minplace\u001b[0m\u001b[1;33m=\u001b[0m\u001b[1;32mTrue\u001b[0m\u001b[1;33m)\u001b[0m\u001b[1;33m\u001b[0m\u001b[0m\n\u001b[0m",
      "\u001b[1;32mG:\\Anaconda3\\lib\\site-packages\\pandas\\core\\frame.py\u001b[0m in \u001b[0;36mdrop\u001b[1;34m(self, labels, axis, index, columns, level, inplace, errors)\u001b[0m\n\u001b[0;32m   3695\u001b[0m                                            \u001b[0mindex\u001b[0m\u001b[1;33m=\u001b[0m\u001b[0mindex\u001b[0m\u001b[1;33m,\u001b[0m \u001b[0mcolumns\u001b[0m\u001b[1;33m=\u001b[0m\u001b[0mcolumns\u001b[0m\u001b[1;33m,\u001b[0m\u001b[1;33m\u001b[0m\u001b[0m\n\u001b[0;32m   3696\u001b[0m                                            \u001b[0mlevel\u001b[0m\u001b[1;33m=\u001b[0m\u001b[0mlevel\u001b[0m\u001b[1;33m,\u001b[0m \u001b[0minplace\u001b[0m\u001b[1;33m=\u001b[0m\u001b[0minplace\u001b[0m\u001b[1;33m,\u001b[0m\u001b[1;33m\u001b[0m\u001b[0m\n\u001b[1;32m-> 3697\u001b[1;33m                                            errors=errors)\n\u001b[0m\u001b[0;32m   3698\u001b[0m \u001b[1;33m\u001b[0m\u001b[0m\n\u001b[0;32m   3699\u001b[0m     @rewrite_axis_style_signature('mapper', [('copy', True),\n",
      "\u001b[1;32mG:\\Anaconda3\\lib\\site-packages\\pandas\\core\\generic.py\u001b[0m in \u001b[0;36mdrop\u001b[1;34m(self, labels, axis, index, columns, level, inplace, errors)\u001b[0m\n\u001b[0;32m   3109\u001b[0m         \u001b[1;32mfor\u001b[0m \u001b[0maxis\u001b[0m\u001b[1;33m,\u001b[0m \u001b[0mlabels\u001b[0m \u001b[1;32min\u001b[0m \u001b[0maxes\u001b[0m\u001b[1;33m.\u001b[0m\u001b[0mitems\u001b[0m\u001b[1;33m(\u001b[0m\u001b[1;33m)\u001b[0m\u001b[1;33m:\u001b[0m\u001b[1;33m\u001b[0m\u001b[0m\n\u001b[0;32m   3110\u001b[0m             \u001b[1;32mif\u001b[0m \u001b[0mlabels\u001b[0m \u001b[1;32mis\u001b[0m \u001b[1;32mnot\u001b[0m \u001b[1;32mNone\u001b[0m\u001b[1;33m:\u001b[0m\u001b[1;33m\u001b[0m\u001b[0m\n\u001b[1;32m-> 3111\u001b[1;33m                 \u001b[0mobj\u001b[0m \u001b[1;33m=\u001b[0m \u001b[0mobj\u001b[0m\u001b[1;33m.\u001b[0m\u001b[0m_drop_axis\u001b[0m\u001b[1;33m(\u001b[0m\u001b[0mlabels\u001b[0m\u001b[1;33m,\u001b[0m \u001b[0maxis\u001b[0m\u001b[1;33m,\u001b[0m \u001b[0mlevel\u001b[0m\u001b[1;33m=\u001b[0m\u001b[0mlevel\u001b[0m\u001b[1;33m,\u001b[0m \u001b[0merrors\u001b[0m\u001b[1;33m=\u001b[0m\u001b[0merrors\u001b[0m\u001b[1;33m)\u001b[0m\u001b[1;33m\u001b[0m\u001b[0m\n\u001b[0m\u001b[0;32m   3112\u001b[0m \u001b[1;33m\u001b[0m\u001b[0m\n\u001b[0;32m   3113\u001b[0m         \u001b[1;32mif\u001b[0m \u001b[0minplace\u001b[0m\u001b[1;33m:\u001b[0m\u001b[1;33m\u001b[0m\u001b[0m\n",
      "\u001b[1;32mG:\\Anaconda3\\lib\\site-packages\\pandas\\core\\generic.py\u001b[0m in \u001b[0;36m_drop_axis\u001b[1;34m(self, labels, axis, level, errors)\u001b[0m\n\u001b[0;32m   3141\u001b[0m                 \u001b[0mnew_axis\u001b[0m \u001b[1;33m=\u001b[0m \u001b[0maxis\u001b[0m\u001b[1;33m.\u001b[0m\u001b[0mdrop\u001b[0m\u001b[1;33m(\u001b[0m\u001b[0mlabels\u001b[0m\u001b[1;33m,\u001b[0m \u001b[0mlevel\u001b[0m\u001b[1;33m=\u001b[0m\u001b[0mlevel\u001b[0m\u001b[1;33m,\u001b[0m \u001b[0merrors\u001b[0m\u001b[1;33m=\u001b[0m\u001b[0merrors\u001b[0m\u001b[1;33m)\u001b[0m\u001b[1;33m\u001b[0m\u001b[0m\n\u001b[0;32m   3142\u001b[0m             \u001b[1;32melse\u001b[0m\u001b[1;33m:\u001b[0m\u001b[1;33m\u001b[0m\u001b[0m\n\u001b[1;32m-> 3143\u001b[1;33m                 \u001b[0mnew_axis\u001b[0m \u001b[1;33m=\u001b[0m \u001b[0maxis\u001b[0m\u001b[1;33m.\u001b[0m\u001b[0mdrop\u001b[0m\u001b[1;33m(\u001b[0m\u001b[0mlabels\u001b[0m\u001b[1;33m,\u001b[0m \u001b[0merrors\u001b[0m\u001b[1;33m=\u001b[0m\u001b[0merrors\u001b[0m\u001b[1;33m)\u001b[0m\u001b[1;33m\u001b[0m\u001b[0m\n\u001b[0m\u001b[0;32m   3144\u001b[0m             \u001b[0mresult\u001b[0m \u001b[1;33m=\u001b[0m \u001b[0mself\u001b[0m\u001b[1;33m.\u001b[0m\u001b[0mreindex\u001b[0m\u001b[1;33m(\u001b[0m\u001b[1;33m**\u001b[0m\u001b[1;33m{\u001b[0m\u001b[0maxis_name\u001b[0m\u001b[1;33m:\u001b[0m \u001b[0mnew_axis\u001b[0m\u001b[1;33m}\u001b[0m\u001b[1;33m)\u001b[0m\u001b[1;33m\u001b[0m\u001b[0m\n\u001b[0;32m   3145\u001b[0m \u001b[1;33m\u001b[0m\u001b[0m\n",
      "\u001b[1;32mG:\\Anaconda3\\lib\\site-packages\\pandas\\core\\indexes\\base.py\u001b[0m in \u001b[0;36mdrop\u001b[1;34m(self, labels, errors)\u001b[0m\n\u001b[0;32m   4402\u001b[0m             \u001b[1;32mif\u001b[0m \u001b[0merrors\u001b[0m \u001b[1;33m!=\u001b[0m \u001b[1;34m'ignore'\u001b[0m\u001b[1;33m:\u001b[0m\u001b[1;33m\u001b[0m\u001b[0m\n\u001b[0;32m   4403\u001b[0m                 raise KeyError(\n\u001b[1;32m-> 4404\u001b[1;33m                     '{} not found in axis'.format(labels[mask]))\n\u001b[0m\u001b[0;32m   4405\u001b[0m             \u001b[0mindexer\u001b[0m \u001b[1;33m=\u001b[0m \u001b[0mindexer\u001b[0m\u001b[1;33m[\u001b[0m\u001b[1;33m~\u001b[0m\u001b[0mmask\u001b[0m\u001b[1;33m]\u001b[0m\u001b[1;33m\u001b[0m\u001b[0m\n\u001b[0;32m   4406\u001b[0m         \u001b[1;32mreturn\u001b[0m \u001b[0mself\u001b[0m\u001b[1;33m.\u001b[0m\u001b[0mdelete\u001b[0m\u001b[1;33m(\u001b[0m\u001b[0mindexer\u001b[0m\u001b[1;33m)\u001b[0m\u001b[1;33m\u001b[0m\u001b[0m\n",
      "\u001b[1;31mKeyError\u001b[0m: \"['host_response_rate'] not found in axis\""
     ]
    }
   ],
   "source": [
    "# to many missing_values\n",
    "#delete column host_response_rate\n",
    "data.drop('host_response_rate', axis=1, inplace=True)"
   ]
  },
  {
   "cell_type": "code",
   "execution_count": 314,
   "metadata": {},
   "outputs": [],
   "source": [
    "# delete NA row\n",
    "col_to_del=['neighbourhood','zipcode']\n",
    "for col in col_to_del:\n",
    "    data[col] = data[col].fillna('None')"
   ]
  },
  {
   "cell_type": "code",
   "execution_count": 315,
   "metadata": {},
   "outputs": [],
   "source": [
    "data = data[(data.neighbourhood != 'None') & (data.zipcode != 'None')]"
   ]
  },
  {
   "cell_type": "code",
   "execution_count": 316,
   "metadata": {},
   "outputs": [],
   "source": [
    "# fill NA by none\n",
    "fillbynone=['first_review','host_since','last_review','host_has_profile_pic','number_of_reviews']\n",
    "for col in fillbynone:\n",
    "    data[col] = data[col].fillna('None')"
   ]
  },
  {
   "cell_type": "code",
   "execution_count": 318,
   "metadata": {},
   "outputs": [],
   "source": [
    "#fill NA by numerical value\n",
    "fillbymedian=['review_scores_rating']\n",
    "for col in fillbymedian:\n",
    "    data[col] = data[col].fillna(data[col].transform(lambda x: x.fillna(x.median())))"
   ]
  },
  {
   "cell_type": "code",
   "execution_count": 319,
   "metadata": {},
   "outputs": [],
   "source": [
    "fillbymode=['bathrooms','beds','bedrooms']\n",
    "for col in fillbymode:\n",
    "    data[col] = data[col].fillna(data[col].mode()[0])"
   ]
  },
  {
   "cell_type": "code",
   "execution_count": 320,
   "metadata": {},
   "outputs": [],
   "source": [
    "#check if there is any missing_value left\n",
    "def left_missing(dataset):\n",
    "    val = dataset.isnull().sum().max()\n",
    "    if val>0:\n",
    "        raise ValueError('There is still missing_value left!')\n",
    "left_missing(data)"
   ]
  },
  {
   "cell_type": "code",
   "execution_count": 321,
   "metadata": {},
   "outputs": [],
   "source": [
    "# transform some variables to str\n",
    "data['bedrooms'] = data['bedrooms'].apply(str)\n",
    "data['bathrooms'] = data['bathrooms'].apply(str)\n",
    "data['accommodates']=data['accommodates'].apply(str)\n",
    "data['beds']=data['beds'].apply(str)"
   ]
  },
  {
   "cell_type": "code",
   "execution_count": 323,
   "metadata": {},
   "outputs": [
    {
     "data": {
      "text/html": [
       "<div>\n",
       "<style scoped>\n",
       "    .dataframe tbody tr th:only-of-type {\n",
       "        vertical-align: middle;\n",
       "    }\n",
       "\n",
       "    .dataframe tbody tr th {\n",
       "        vertical-align: top;\n",
       "    }\n",
       "\n",
       "    .dataframe thead th {\n",
       "        text-align: right;\n",
       "    }\n",
       "</style>\n",
       "<table border=\"1\" class=\"dataframe\">\n",
       "  <thead>\n",
       "    <tr style=\"text-align: right;\">\n",
       "      <th></th>\n",
       "      <th>id</th>\n",
       "      <th>log_price</th>\n",
       "      <th>property_type</th>\n",
       "      <th>room_type</th>\n",
       "      <th>accommodates</th>\n",
       "      <th>bathrooms</th>\n",
       "      <th>bed_type</th>\n",
       "      <th>cancellation_policy</th>\n",
       "      <th>cleaning_fee</th>\n",
       "      <th>city</th>\n",
       "      <th>...</th>\n",
       "      <th>last_review</th>\n",
       "      <th>latitude</th>\n",
       "      <th>longitude</th>\n",
       "      <th>neighbourhood</th>\n",
       "      <th>number_of_reviews</th>\n",
       "      <th>review_scores_rating</th>\n",
       "      <th>zipcode</th>\n",
       "      <th>bedrooms</th>\n",
       "      <th>beds</th>\n",
       "      <th>Saleprice</th>\n",
       "    </tr>\n",
       "  </thead>\n",
       "  <tbody>\n",
       "    <tr>\n",
       "      <th>0</th>\n",
       "      <td>20605308</td>\n",
       "      <td>6.684612</td>\n",
       "      <td>House</td>\n",
       "      <td>Entire home/apt</td>\n",
       "      <td>16</td>\n",
       "      <td>10</td>\n",
       "      <td>Real Bed</td>\n",
       "      <td>strict</td>\n",
       "      <td>1</td>\n",
       "      <td>NYC</td>\n",
       "      <td>...</td>\n",
       "      <td>433</td>\n",
       "      <td>40.684922</td>\n",
       "      <td>-73.954891</td>\n",
       "      <td>Bedford-Stuyvesant</td>\n",
       "      <td>70</td>\n",
       "      <td>95.0</td>\n",
       "      <td>11216</td>\n",
       "      <td>9</td>\n",
       "      <td>9</td>\n",
       "      <td>800.000000</td>\n",
       "    </tr>\n",
       "    <tr>\n",
       "      <th>1</th>\n",
       "      <td>2186452</td>\n",
       "      <td>6.388561</td>\n",
       "      <td>House</td>\n",
       "      <td>Entire home/apt</td>\n",
       "      <td>16</td>\n",
       "      <td>14</td>\n",
       "      <td>Real Bed</td>\n",
       "      <td>strict</td>\n",
       "      <td>0</td>\n",
       "      <td>LA</td>\n",
       "      <td>...</td>\n",
       "      <td>581</td>\n",
       "      <td>33.975376</td>\n",
       "      <td>-118.295995</td>\n",
       "      <td>South LA</td>\n",
       "      <td>16</td>\n",
       "      <td>100.0</td>\n",
       "      <td>90044</td>\n",
       "      <td>2</td>\n",
       "      <td>8</td>\n",
       "      <td>595.000000</td>\n",
       "    </tr>\n",
       "    <tr>\n",
       "      <th>2</th>\n",
       "      <td>17764355</td>\n",
       "      <td>5.700444</td>\n",
       "      <td>House</td>\n",
       "      <td>Entire home/apt</td>\n",
       "      <td>16</td>\n",
       "      <td>10</td>\n",
       "      <td>Real Bed</td>\n",
       "      <td>strict</td>\n",
       "      <td>1</td>\n",
       "      <td>Chicago</td>\n",
       "      <td>...</td>\n",
       "      <td>623</td>\n",
       "      <td>41.947212</td>\n",
       "      <td>-87.655574</td>\n",
       "      <td>Wrigleyville</td>\n",
       "      <td>13</td>\n",
       "      <td>95.0</td>\n",
       "      <td>60613</td>\n",
       "      <td>2</td>\n",
       "      <td>8</td>\n",
       "      <td>299.000000</td>\n",
       "    </tr>\n",
       "    <tr>\n",
       "      <th>3</th>\n",
       "      <td>1446537</td>\n",
       "      <td>7.170120</td>\n",
       "      <td>House</td>\n",
       "      <td>Entire home/apt</td>\n",
       "      <td>16</td>\n",
       "      <td>14</td>\n",
       "      <td>Real Bed</td>\n",
       "      <td>flexible</td>\n",
       "      <td>0</td>\n",
       "      <td>LA</td>\n",
       "      <td>...</td>\n",
       "      <td>597</td>\n",
       "      <td>34.048690</td>\n",
       "      <td>-118.319579</td>\n",
       "      <td>Mid-Wilshire</td>\n",
       "      <td>0</td>\n",
       "      <td>89.0</td>\n",
       "      <td>90019</td>\n",
       "      <td>2</td>\n",
       "      <td>8</td>\n",
       "      <td>1299.999999</td>\n",
       "    </tr>\n",
       "    <tr>\n",
       "      <th>4</th>\n",
       "      <td>13399619</td>\n",
       "      <td>6.257668</td>\n",
       "      <td>House</td>\n",
       "      <td>Entire home/apt</td>\n",
       "      <td>16</td>\n",
       "      <td>8</td>\n",
       "      <td>Real Bed</td>\n",
       "      <td>flexible</td>\n",
       "      <td>0</td>\n",
       "      <td>NYC</td>\n",
       "      <td>...</td>\n",
       "      <td>None</td>\n",
       "      <td>40.674952</td>\n",
       "      <td>-73.819140</td>\n",
       "      <td>South Ozone Park</td>\n",
       "      <td>0</td>\n",
       "      <td>96.0</td>\n",
       "      <td>11420</td>\n",
       "      <td>2</td>\n",
       "      <td>8</td>\n",
       "      <td>522.000000</td>\n",
       "    </tr>\n",
       "  </tbody>\n",
       "</table>\n",
       "<p>5 rows × 25 columns</p>\n",
       "</div>"
      ],
      "text/plain": [
       "         id  log_price property_type        room_type accommodates  bathrooms  \\\n",
       "0  20605308   6.684612         House  Entire home/apt           16         10   \n",
       "1   2186452   6.388561         House  Entire home/apt           16         14   \n",
       "2  17764355   5.700444         House  Entire home/apt           16         10   \n",
       "3   1446537   7.170120         House  Entire home/apt           16         14   \n",
       "4  13399619   6.257668         House  Entire home/apt           16          8   \n",
       "\n",
       "   bed_type cancellation_policy  cleaning_fee     city     ...       \\\n",
       "0  Real Bed              strict             1      NYC     ...        \n",
       "1  Real Bed              strict             0       LA     ...        \n",
       "2  Real Bed              strict             1  Chicago     ...        \n",
       "3  Real Bed            flexible             0       LA     ...        \n",
       "4  Real Bed            flexible             0      NYC     ...        \n",
       "\n",
       "  last_review   latitude   longitude       neighbourhood  number_of_reviews  \\\n",
       "0         433  40.684922  -73.954891  Bedford-Stuyvesant                 70   \n",
       "1         581  33.975376 -118.295995            South LA                 16   \n",
       "2         623  41.947212  -87.655574        Wrigleyville                 13   \n",
       "3         597  34.048690 -118.319579        Mid-Wilshire                  0   \n",
       "4        None  40.674952  -73.819140    South Ozone Park                  0   \n",
       "\n",
       "  review_scores_rating  zipcode  bedrooms beds    Saleprice  \n",
       "0                 95.0    11216         9    9   800.000000  \n",
       "1                100.0    90044         2    8   595.000000  \n",
       "2                 95.0    60613         2    8   299.000000  \n",
       "3                 89.0    90019         2    8  1299.999999  \n",
       "4                 96.0    11420         2    8   522.000000  \n",
       "\n",
       "[5 rows x 25 columns]"
      ]
     },
     "execution_count": 323,
     "metadata": {},
     "output_type": "execute_result"
    }
   ],
   "source": [
    "data.head()"
   ]
  },
  {
   "cell_type": "code",
   "execution_count": 324,
   "metadata": {},
   "outputs": [
    {
     "name": "stdout",
     "output_type": "stream",
     "text": [
      "\n",
      "Skew in numerical features: \n",
      "\n",
      "There are 12 skewed numerical features to Box Cox transform\n"
     ]
    }
   ],
   "source": [
    "# skewness\n",
    "numeric_feats =data.dtypes[data.dtypes != \"object\"].index\n",
    "skewed_feats = data[numeric_feats].apply(lambda x: skew(x.dropna())).sort_values(ascending=False)\n",
    "print(\"\\nSkew in numerical features: \\n\")\n",
    "skewness = pd.DataFrame({'Skew' :skewed_feats})\n",
    "skewness.head(10)\n",
    "\n",
    "skewness = skewness[abs(skewness) > 0.75]\n",
    "print(\"There are {} skewed numerical features to Box Cox transform\".format(skewness.shape[0]))"
   ]
  },
  {
   "cell_type": "code",
   "execution_count": 326,
   "metadata": {},
   "outputs": [],
   "source": [
    "from sklearn.model_selection import train_test_split\n",
    "train_data, test_data=train_test_split(data,test_size=0.2)\n",
    "\n",
    "train_data.to_csv('train_data.csv',index=False)\n",
    "test_data.to_csv('test_data.csv',index=False)"
   ]
  },
  {
   "cell_type": "code",
   "execution_count": 327,
   "metadata": {},
   "outputs": [
    {
     "data": {
      "text/html": [
       "<div>\n",
       "<style scoped>\n",
       "    .dataframe tbody tr th:only-of-type {\n",
       "        vertical-align: middle;\n",
       "    }\n",
       "\n",
       "    .dataframe tbody tr th {\n",
       "        vertical-align: top;\n",
       "    }\n",
       "\n",
       "    .dataframe thead th {\n",
       "        text-align: right;\n",
       "    }\n",
       "</style>\n",
       "<table border=\"1\" class=\"dataframe\">\n",
       "  <thead>\n",
       "    <tr style=\"text-align: right;\">\n",
       "      <th></th>\n",
       "      <th>id</th>\n",
       "      <th>log_price</th>\n",
       "      <th>property_type</th>\n",
       "      <th>room_type</th>\n",
       "      <th>accommodates</th>\n",
       "      <th>bathrooms</th>\n",
       "      <th>bed_type</th>\n",
       "      <th>cancellation_policy</th>\n",
       "      <th>cleaning_fee</th>\n",
       "      <th>city</th>\n",
       "      <th>...</th>\n",
       "      <th>last_review</th>\n",
       "      <th>latitude</th>\n",
       "      <th>longitude</th>\n",
       "      <th>neighbourhood</th>\n",
       "      <th>number_of_reviews</th>\n",
       "      <th>review_scores_rating</th>\n",
       "      <th>zipcode</th>\n",
       "      <th>bedrooms</th>\n",
       "      <th>beds</th>\n",
       "      <th>Saleprice</th>\n",
       "    </tr>\n",
       "  </thead>\n",
       "  <tbody>\n",
       "    <tr>\n",
       "      <th>63467</th>\n",
       "      <td>7989669</td>\n",
       "      <td>5.164786</td>\n",
       "      <td>Condominium</td>\n",
       "      <td>Entire home/apt</td>\n",
       "      <td>2</td>\n",
       "      <td>2</td>\n",
       "      <td>Real Bed</td>\n",
       "      <td>strict</td>\n",
       "      <td>1</td>\n",
       "      <td>LA</td>\n",
       "      <td>...</td>\n",
       "      <td>624</td>\n",
       "      <td>34.005135</td>\n",
       "      <td>-118.490299</td>\n",
       "      <td>Santa Monica</td>\n",
       "      <td>6</td>\n",
       "      <td>90.0</td>\n",
       "      <td>90405</td>\n",
       "      <td>0</td>\n",
       "      <td>1</td>\n",
       "      <td>175.0</td>\n",
       "    </tr>\n",
       "    <tr>\n",
       "      <th>41758</th>\n",
       "      <td>9044516</td>\n",
       "      <td>4.442651</td>\n",
       "      <td>Apartment</td>\n",
       "      <td>Private room</td>\n",
       "      <td>2</td>\n",
       "      <td>2</td>\n",
       "      <td>Real Bed</td>\n",
       "      <td>strict</td>\n",
       "      <td>1</td>\n",
       "      <td>NYC</td>\n",
       "      <td>...</td>\n",
       "      <td>427</td>\n",
       "      <td>40.820208</td>\n",
       "      <td>-73.953071</td>\n",
       "      <td>Harlem</td>\n",
       "      <td>44</td>\n",
       "      <td>95.0</td>\n",
       "      <td>10031</td>\n",
       "      <td>1</td>\n",
       "      <td>1</td>\n",
       "      <td>85.0</td>\n",
       "    </tr>\n",
       "    <tr>\n",
       "      <th>43037</th>\n",
       "      <td>7275881</td>\n",
       "      <td>3.912023</td>\n",
       "      <td>Condominium</td>\n",
       "      <td>Private room</td>\n",
       "      <td>2</td>\n",
       "      <td>2</td>\n",
       "      <td>Real Bed</td>\n",
       "      <td>strict</td>\n",
       "      <td>1</td>\n",
       "      <td>NYC</td>\n",
       "      <td>...</td>\n",
       "      <td>439</td>\n",
       "      <td>40.577653</td>\n",
       "      <td>-73.983375</td>\n",
       "      <td>Coney Island</td>\n",
       "      <td>171</td>\n",
       "      <td>94.0</td>\n",
       "      <td>11224</td>\n",
       "      <td>1</td>\n",
       "      <td>1</td>\n",
       "      <td>50.0</td>\n",
       "    </tr>\n",
       "    <tr>\n",
       "      <th>18064</th>\n",
       "      <td>3851703</td>\n",
       "      <td>5.010635</td>\n",
       "      <td>House</td>\n",
       "      <td>Private room</td>\n",
       "      <td>2</td>\n",
       "      <td>2</td>\n",
       "      <td>Real Bed</td>\n",
       "      <td>flexible</td>\n",
       "      <td>0</td>\n",
       "      <td>Boston</td>\n",
       "      <td>...</td>\n",
       "      <td>554</td>\n",
       "      <td>42.290683</td>\n",
       "      <td>-71.061916</td>\n",
       "      <td>Dorchester</td>\n",
       "      <td>1</td>\n",
       "      <td>100.0</td>\n",
       "      <td>2122</td>\n",
       "      <td>1</td>\n",
       "      <td>10</td>\n",
       "      <td>150.0</td>\n",
       "    </tr>\n",
       "    <tr>\n",
       "      <th>22946</th>\n",
       "      <td>3272552</td>\n",
       "      <td>5.129899</td>\n",
       "      <td>Apartment</td>\n",
       "      <td>Entire home/apt</td>\n",
       "      <td>3</td>\n",
       "      <td>2</td>\n",
       "      <td>Real Bed</td>\n",
       "      <td>strict</td>\n",
       "      <td>1</td>\n",
       "      <td>LA</td>\n",
       "      <td>...</td>\n",
       "      <td>1679</td>\n",
       "      <td>34.103837</td>\n",
       "      <td>-118.342519</td>\n",
       "      <td>Hollywood</td>\n",
       "      <td>4</td>\n",
       "      <td>67.0</td>\n",
       "      <td>90028</td>\n",
       "      <td>1</td>\n",
       "      <td>10</td>\n",
       "      <td>169.0</td>\n",
       "    </tr>\n",
       "  </tbody>\n",
       "</table>\n",
       "<p>5 rows × 25 columns</p>\n",
       "</div>"
      ],
      "text/plain": [
       "            id  log_price property_type        room_type accommodates  \\\n",
       "63467  7989669   5.164786   Condominium  Entire home/apt            2   \n",
       "41758  9044516   4.442651     Apartment     Private room            2   \n",
       "43037  7275881   3.912023   Condominium     Private room            2   \n",
       "18064  3851703   5.010635         House     Private room            2   \n",
       "22946  3272552   5.129899     Apartment  Entire home/apt            3   \n",
       "\n",
       "       bathrooms  bed_type cancellation_policy  cleaning_fee    city  \\\n",
       "63467          2  Real Bed              strict             1      LA   \n",
       "41758          2  Real Bed              strict             1     NYC   \n",
       "43037          2  Real Bed              strict             1     NYC   \n",
       "18064          2  Real Bed            flexible             0  Boston   \n",
       "22946          2  Real Bed              strict             1      LA   \n",
       "\n",
       "         ...    last_review   latitude   longitude neighbourhood  \\\n",
       "63467    ...            624  34.005135 -118.490299  Santa Monica   \n",
       "41758    ...            427  40.820208  -73.953071        Harlem   \n",
       "43037    ...            439  40.577653  -73.983375  Coney Island   \n",
       "18064    ...            554  42.290683  -71.061916    Dorchester   \n",
       "22946    ...           1679  34.103837 -118.342519     Hollywood   \n",
       "\n",
       "       number_of_reviews review_scores_rating  zipcode  bedrooms beds  \\\n",
       "63467                  6                 90.0    90405         0    1   \n",
       "41758                 44                 95.0    10031         1    1   \n",
       "43037                171                 94.0    11224         1    1   \n",
       "18064                  1                100.0     2122         1   10   \n",
       "22946                  4                 67.0    90028         1   10   \n",
       "\n",
       "      Saleprice  \n",
       "63467     175.0  \n",
       "41758      85.0  \n",
       "43037      50.0  \n",
       "18064     150.0  \n",
       "22946     169.0  \n",
       "\n",
       "[5 rows x 25 columns]"
      ]
     },
     "execution_count": 327,
     "metadata": {},
     "output_type": "execute_result"
    }
   ],
   "source": [
    "train_data.head()\n"
   ]
  },
  {
   "cell_type": "code",
   "execution_count": 328,
   "metadata": {},
   "outputs": [
    {
     "data": {
      "text/html": [
       "<div>\n",
       "<style scoped>\n",
       "    .dataframe tbody tr th:only-of-type {\n",
       "        vertical-align: middle;\n",
       "    }\n",
       "\n",
       "    .dataframe tbody tr th {\n",
       "        vertical-align: top;\n",
       "    }\n",
       "\n",
       "    .dataframe thead th {\n",
       "        text-align: right;\n",
       "    }\n",
       "</style>\n",
       "<table border=\"1\" class=\"dataframe\">\n",
       "  <thead>\n",
       "    <tr style=\"text-align: right;\">\n",
       "      <th></th>\n",
       "      <th>id</th>\n",
       "      <th>log_price</th>\n",
       "      <th>property_type</th>\n",
       "      <th>room_type</th>\n",
       "      <th>accommodates</th>\n",
       "      <th>bathrooms</th>\n",
       "      <th>bed_type</th>\n",
       "      <th>cancellation_policy</th>\n",
       "      <th>cleaning_fee</th>\n",
       "      <th>city</th>\n",
       "      <th>...</th>\n",
       "      <th>last_review</th>\n",
       "      <th>latitude</th>\n",
       "      <th>longitude</th>\n",
       "      <th>neighbourhood</th>\n",
       "      <th>number_of_reviews</th>\n",
       "      <th>review_scores_rating</th>\n",
       "      <th>zipcode</th>\n",
       "      <th>bedrooms</th>\n",
       "      <th>beds</th>\n",
       "      <th>Saleprice</th>\n",
       "    </tr>\n",
       "  </thead>\n",
       "  <tbody>\n",
       "    <tr>\n",
       "      <th>21947</th>\n",
       "      <td>17016281</td>\n",
       "      <td>5.003946</td>\n",
       "      <td>Apartment</td>\n",
       "      <td>Entire home/apt</td>\n",
       "      <td>3</td>\n",
       "      <td>2</td>\n",
       "      <td>Real Bed</td>\n",
       "      <td>strict</td>\n",
       "      <td>1</td>\n",
       "      <td>SF</td>\n",
       "      <td>...</td>\n",
       "      <td>470</td>\n",
       "      <td>37.740036</td>\n",
       "      <td>-122.420836</td>\n",
       "      <td>Bernal Heights</td>\n",
       "      <td>18</td>\n",
       "      <td>89.0</td>\n",
       "      <td>94110</td>\n",
       "      <td>1</td>\n",
       "      <td>10</td>\n",
       "      <td>149.0</td>\n",
       "    </tr>\n",
       "    <tr>\n",
       "      <th>18938</th>\n",
       "      <td>16205461</td>\n",
       "      <td>5.135798</td>\n",
       "      <td>Apartment</td>\n",
       "      <td>Entire home/apt</td>\n",
       "      <td>4</td>\n",
       "      <td>2</td>\n",
       "      <td>Real Bed</td>\n",
       "      <td>strict</td>\n",
       "      <td>1</td>\n",
       "      <td>SF</td>\n",
       "      <td>...</td>\n",
       "      <td>601</td>\n",
       "      <td>37.759047</td>\n",
       "      <td>-122.426525</td>\n",
       "      <td>Mission District</td>\n",
       "      <td>9</td>\n",
       "      <td>98.0</td>\n",
       "      <td>94110</td>\n",
       "      <td>1</td>\n",
       "      <td>10</td>\n",
       "      <td>170.0</td>\n",
       "    </tr>\n",
       "    <tr>\n",
       "      <th>3640</th>\n",
       "      <td>20616888</td>\n",
       "      <td>5.521461</td>\n",
       "      <td>House</td>\n",
       "      <td>Entire home/apt</td>\n",
       "      <td>12</td>\n",
       "      <td>2</td>\n",
       "      <td>Real Bed</td>\n",
       "      <td>flexible</td>\n",
       "      <td>1</td>\n",
       "      <td>LA</td>\n",
       "      <td>...</td>\n",
       "      <td>None</td>\n",
       "      <td>33.982380</td>\n",
       "      <td>-118.055445</td>\n",
       "      <td>Whittier</td>\n",
       "      <td>0</td>\n",
       "      <td>96.0</td>\n",
       "      <td>90606</td>\n",
       "      <td>4</td>\n",
       "      <td>12</td>\n",
       "      <td>250.0</td>\n",
       "    </tr>\n",
       "    <tr>\n",
       "      <th>57964</th>\n",
       "      <td>16366956</td>\n",
       "      <td>4.382027</td>\n",
       "      <td>Apartment</td>\n",
       "      <td>Entire home/apt</td>\n",
       "      <td>2</td>\n",
       "      <td>3</td>\n",
       "      <td>Real Bed</td>\n",
       "      <td>flexible</td>\n",
       "      <td>1</td>\n",
       "      <td>LA</td>\n",
       "      <td>...</td>\n",
       "      <td>None</td>\n",
       "      <td>34.083257</td>\n",
       "      <td>-118.285542</td>\n",
       "      <td>East Hollywood</td>\n",
       "      <td>0</td>\n",
       "      <td>96.0</td>\n",
       "      <td>90029</td>\n",
       "      <td>1</td>\n",
       "      <td>1</td>\n",
       "      <td>80.0</td>\n",
       "    </tr>\n",
       "    <tr>\n",
       "      <th>18608</th>\n",
       "      <td>8408530</td>\n",
       "      <td>5.843544</td>\n",
       "      <td>Apartment</td>\n",
       "      <td>Entire home/apt</td>\n",
       "      <td>3</td>\n",
       "      <td>2</td>\n",
       "      <td>Real Bed</td>\n",
       "      <td>strict</td>\n",
       "      <td>1</td>\n",
       "      <td>NYC</td>\n",
       "      <td>...</td>\n",
       "      <td>448</td>\n",
       "      <td>40.758559</td>\n",
       "      <td>-73.988968</td>\n",
       "      <td>Hell's Kitchen</td>\n",
       "      <td>82</td>\n",
       "      <td>98.0</td>\n",
       "      <td>10036</td>\n",
       "      <td>1</td>\n",
       "      <td>10</td>\n",
       "      <td>345.0</td>\n",
       "    </tr>\n",
       "  </tbody>\n",
       "</table>\n",
       "<p>5 rows × 25 columns</p>\n",
       "</div>"
      ],
      "text/plain": [
       "             id  log_price property_type        room_type accommodates  \\\n",
       "21947  17016281   5.003946     Apartment  Entire home/apt            3   \n",
       "18938  16205461   5.135798     Apartment  Entire home/apt            4   \n",
       "3640   20616888   5.521461         House  Entire home/apt           12   \n",
       "57964  16366956   4.382027     Apartment  Entire home/apt            2   \n",
       "18608   8408530   5.843544     Apartment  Entire home/apt            3   \n",
       "\n",
       "       bathrooms  bed_type cancellation_policy  cleaning_fee city    ...     \\\n",
       "21947          2  Real Bed              strict             1   SF    ...      \n",
       "18938          2  Real Bed              strict             1   SF    ...      \n",
       "3640           2  Real Bed            flexible             1   LA    ...      \n",
       "57964          3  Real Bed            flexible             1   LA    ...      \n",
       "18608          2  Real Bed              strict             1  NYC    ...      \n",
       "\n",
       "      last_review   latitude   longitude     neighbourhood  number_of_reviews  \\\n",
       "21947         470  37.740036 -122.420836    Bernal Heights                 18   \n",
       "18938         601  37.759047 -122.426525  Mission District                  9   \n",
       "3640         None  33.982380 -118.055445          Whittier                  0   \n",
       "57964        None  34.083257 -118.285542    East Hollywood                  0   \n",
       "18608         448  40.758559  -73.988968    Hell's Kitchen                 82   \n",
       "\n",
       "      review_scores_rating  zipcode  bedrooms beds Saleprice  \n",
       "21947                 89.0    94110         1   10     149.0  \n",
       "18938                 98.0    94110         1   10     170.0  \n",
       "3640                  96.0    90606         4   12     250.0  \n",
       "57964                 96.0    90029         1    1      80.0  \n",
       "18608                 98.0    10036         1   10     345.0  \n",
       "\n",
       "[5 rows x 25 columns]"
      ]
     },
     "execution_count": 328,
     "metadata": {},
     "output_type": "execute_result"
    }
   ],
   "source": [
    "test_data.head()"
   ]
  },
  {
   "cell_type": "code",
   "execution_count": 330,
   "metadata": {},
   "outputs": [
    {
     "name": "stdout",
     "output_type": "stream",
     "text": [
      "47717\n",
      "11930\n"
     ]
    }
   ],
   "source": [
    "print (len(train_data))\n",
    "print (len(test_data))"
   ]
  },
  {
   "cell_type": "code",
   "execution_count": 331,
   "metadata": {},
   "outputs": [
    {
     "data": {
      "text/plain": [
       "Index(['id', 'log_price', 'property_type', 'room_type', 'accommodates',\n",
       "       'bathrooms', 'bed_type', 'cancellation_policy', 'cleaning_fee', 'city',\n",
       "       'first_review', 'host_has_profile_pic', 'host_identity_verified',\n",
       "       'host_since', 'instant_bookable', 'last_review', 'latitude',\n",
       "       'longitude', 'neighbourhood', 'number_of_reviews',\n",
       "       'review_scores_rating', 'zipcode', 'bedrooms', 'beds', 'Saleprice'],\n",
       "      dtype='object')"
      ]
     },
     "execution_count": 331,
     "metadata": {},
     "output_type": "execute_result"
    }
   ],
   "source": [
    "train_data.columns"
   ]
  },
  {
   "cell_type": "code",
   "execution_count": 332,
   "metadata": {},
   "outputs": [
    {
     "data": {
      "text/plain": [
       "25"
      ]
     },
     "execution_count": 332,
     "metadata": {},
     "output_type": "execute_result"
    }
   ],
   "source": [
    "len(train_data.columns)"
   ]
  },
  {
   "cell_type": "code",
   "execution_count": 333,
   "metadata": {},
   "outputs": [],
   "source": [
    "#if one column only has one value, consider to delete the column\n",
    "train_columns_to_remove = [col for col in train_data.columns if train_data[col].nunique() == 1]\n",
    "test_columns_to_remove = [col for col in test_data.columns if test_data[col].nunique() == 1]"
   ]
  },
  {
   "cell_type": "code",
   "execution_count": 334,
   "metadata": {},
   "outputs": [
    {
     "name": "stdout",
     "output_type": "stream",
     "text": [
      "[]\n",
      "[]\n"
     ]
    }
   ],
   "source": [
    "print(train_columns_to_remove)\n",
    "print(test_columns_to_remove)"
   ]
  },
  {
   "cell_type": "code",
   "execution_count": 335,
   "metadata": {},
   "outputs": [],
   "source": [
    "X = data.drop(\"log_price\",axis=1).values\n",
    "y = data[\"log_price\"].values"
   ]
  },
  {
   "cell_type": "code",
   "execution_count": 336,
   "metadata": {},
   "outputs": [],
   "source": [
    "from sklearn.model_selection import KFold, cross_val_score, train_test_split\n"
   ]
  },
  {
   "cell_type": "code",
   "execution_count": 337,
   "metadata": {},
   "outputs": [],
   "source": [
    "from sklearn.preprocessing import LabelEncoder"
   ]
  },
  {
   "cell_type": "code",
   "execution_count": 338,
   "metadata": {},
   "outputs": [
    {
     "name": "stdout",
     "output_type": "stream",
     "text": [
      "id\n"
     ]
    },
    {
     "name": "stderr",
     "output_type": "stream",
     "text": [
      "G:\\Anaconda3\\lib\\site-packages\\ipykernel_launcher.py:5: SettingWithCopyWarning: \n",
      "A value is trying to be set on a copy of a slice from a DataFrame.\n",
      "Try using .loc[row_indexer,col_indexer] = value instead\n",
      "\n",
      "See the caveats in the documentation: http://pandas.pydata.org/pandas-docs/stable/indexing.html#indexing-view-versus-copy\n",
      "  \"\"\"\n",
      "G:\\Anaconda3\\lib\\site-packages\\ipykernel_launcher.py:6: SettingWithCopyWarning: \n",
      "A value is trying to be set on a copy of a slice from a DataFrame.\n",
      "Try using .loc[row_indexer,col_indexer] = value instead\n",
      "\n",
      "See the caveats in the documentation: http://pandas.pydata.org/pandas-docs/stable/indexing.html#indexing-view-versus-copy\n",
      "  \n"
     ]
    },
    {
     "name": "stdout",
     "output_type": "stream",
     "text": [
      "log_price\n",
      "property_type\n",
      "room_type\n",
      "accommodates\n",
      "bathrooms\n",
      "bed_type\n",
      "cancellation_policy\n",
      "cleaning_fee\n",
      "city\n",
      "first_review\n",
      "host_has_profile_pic\n",
      "host_identity_verified\n",
      "host_since\n",
      "instant_bookable\n",
      "last_review\n",
      "latitude\n",
      "longitude\n",
      "neighbourhood\n",
      "number_of_reviews\n",
      "review_scores_rating\n",
      "zipcode\n",
      "bedrooms\n",
      "beds\n",
      "Saleprice\n"
     ]
    }
   ],
   "source": [
    "for col in data.columns:\n",
    "    print(col)\n",
    "    lbl = LabelEncoder()\n",
    "    lbl.fit(list(train_data[col].values.astype('str')) + list(test_data[col].values.astype('str')))\n",
    "    train_data[col] = lbl.transform(list(train_data[col].values.astype('str')))\n",
    "    test_data[col] = lbl.transform(list(test_data[col].values.astype('str')))"
   ]
  },
  {
   "cell_type": "code",
   "execution_count": 339,
   "metadata": {},
   "outputs": [],
   "source": [
    "from sklearn.model_selection import TimeSeriesSplit"
   ]
  },
  {
   "cell_type": "code",
   "execution_count": 340,
   "metadata": {},
   "outputs": [],
   "source": [
    "from sklearn.model_selection import KFold #Provides train/test indices to split data in train/test sets. Split dataset into k consecutive folds (without shuffling by default).\n",
    "import lightgbm as lgb"
   ]
  },
  {
   "cell_type": "code",
   "execution_count": 341,
   "metadata": {},
   "outputs": [],
   "source": [
    "params = {\"objective\" : \"regression\", \"metric\" : \"rmse\", \"max_depth\": 8, \"min_child_samples\": 20, \"reg_alpha\": 0.2, \"reg_lambda\": 0.2,\n",
    "        \"num_leaves\" : 257, \"learning_rate\" : 0.01, \"subsample\" : 0.9, \"colsample_bytree\" : 0.9, \"subsample_freq \": 5}\n",
    "n_fold = 10\n",
    "folds = KFold(n_splits=n_fold, shuffle=False, random_state=42)\n",
    "# Cleaning and defining parameters for LGBM\n",
    "model = lgb.LGBMRegressor(**params, n_estimators = 20000, nthread = 4, n_jobs = -1)"
   ]
  },
  {
   "cell_type": "code",
   "execution_count": 342,
   "metadata": {},
   "outputs": [],
   "source": [
    "#train = train.sort_values('date')\n",
    "X = train_data.drop('log_price', axis=1)\n",
    "y = train_data['log_price']\n",
    "X_test = test_data.drop('log_price', axis=1)\n",
    "# I use TimeSeriesSplit as we have time series\n",
    "tscv = TimeSeriesSplit(n_splits=10)"
   ]
  },
  {
   "cell_type": "code",
   "execution_count": 343,
   "metadata": {},
   "outputs": [
    {
     "name": "stdout",
     "output_type": "stream",
     "text": [
      "Fold: 0\n",
      "Training until validation scores don't improve for 10 rounds.\n",
      "[500]\ttraining's rmse: 37.8928\tvalid_1's rmse: 43.5206\n",
      "[1000]\ttraining's rmse: 33.0451\tvalid_1's rmse: 40.5252\n",
      "Early stopping, best iteration is:\n",
      "[1137]\ttraining's rmse: 32.2448\tvalid_1's rmse: 40.212\n",
      "Fold: 1\n",
      "Training until validation scores don't improve for 10 rounds.\n",
      "[500]\ttraining's rmse: 37.7\tvalid_1's rmse: 45.8146\n",
      "Early stopping, best iteration is:\n",
      "[838]\ttraining's rmse: 34.4012\tvalid_1's rmse: 44.316\n",
      "Fold: 2\n",
      "Training until validation scores don't improve for 10 rounds.\n",
      "[500]\ttraining's rmse: 37.974\tvalid_1's rmse: 45.9444\n",
      "[1000]\ttraining's rmse: 33.1514\tvalid_1's rmse: 42.9374\n",
      "[1500]\ttraining's rmse: 29.5325\tvalid_1's rmse: 40.7923\n",
      "[2000]\ttraining's rmse: 27.1035\tvalid_1's rmse: 39.2973\n",
      "Early stopping, best iteration is:\n",
      "[2117]\ttraining's rmse: 26.6267\tvalid_1's rmse: 39.0719\n",
      "Fold: 3\n",
      "Training until validation scores don't improve for 10 rounds.\n",
      "[500]\ttraining's rmse: 38.087\tvalid_1's rmse: 41.8533\n",
      "[1000]\ttraining's rmse: 33.0177\tvalid_1's rmse: 39.3527\n",
      "[1500]\ttraining's rmse: 29.8101\tvalid_1's rmse: 37.7969\n",
      "[2000]\ttraining's rmse: 27.4624\tvalid_1's rmse: 36.7262\n",
      "[2500]\ttraining's rmse: 25.4661\tvalid_1's rmse: 35.8893\n",
      "Early stopping, best iteration is:\n",
      "[2955]\ttraining's rmse: 24.0971\tvalid_1's rmse: 35.4618\n",
      "Fold: 4\n",
      "Training until validation scores don't improve for 10 rounds.\n",
      "[500]\ttraining's rmse: 37.6433\tvalid_1's rmse: 42.191\n",
      "[1000]\ttraining's rmse: 33.2093\tvalid_1's rmse: 39.8218\n",
      "[1500]\ttraining's rmse: 29.8919\tvalid_1's rmse: 38.303\n",
      "[2000]\ttraining's rmse: 27.3678\tvalid_1's rmse: 37.4988\n",
      "Early stopping, best iteration is:\n",
      "[2480]\ttraining's rmse: 25.4732\tvalid_1's rmse: 36.9413\n",
      "Fold: 5\n",
      "Training until validation scores don't improve for 10 rounds.\n",
      "[500]\ttraining's rmse: 37.799\tvalid_1's rmse: 44.4448\n",
      "[1000]\ttraining's rmse: 32.9065\tvalid_1's rmse: 42.1994\n",
      "[1500]\ttraining's rmse: 29.8\tvalid_1's rmse: 40.6338\n",
      "[2000]\ttraining's rmse: 27.4149\tvalid_1's rmse: 39.7965\n",
      "[2500]\ttraining's rmse: 25.4004\tvalid_1's rmse: 38.9444\n",
      "[3000]\ttraining's rmse: 23.747\tvalid_1's rmse: 38.2803\n",
      "Early stopping, best iteration is:\n",
      "[3280]\ttraining's rmse: 22.9874\tvalid_1's rmse: 38.035\n",
      "Fold: 6\n",
      "Training until validation scores don't improve for 10 rounds.\n",
      "[500]\ttraining's rmse: 37.1407\tvalid_1's rmse: 48.2902\n",
      "[1000]\ttraining's rmse: 32.3333\tvalid_1's rmse: 45.4377\n",
      "Early stopping, best iteration is:\n",
      "[1449]\ttraining's rmse: 29.5248\tvalid_1's rmse: 44.43\n",
      "Fold: 7\n",
      "Training until validation scores don't improve for 10 rounds.\n",
      "[500]\ttraining's rmse: 37.6759\tvalid_1's rmse: 45.8992\n",
      "[1000]\ttraining's rmse: 32.7464\tvalid_1's rmse: 42.1678\n",
      "[1500]\ttraining's rmse: 29.7773\tvalid_1's rmse: 40.3059\n",
      "[2000]\ttraining's rmse: 27.1629\tvalid_1's rmse: 38.6994\n",
      "Early stopping, best iteration is:\n",
      "[2398]\ttraining's rmse: 25.7296\tvalid_1's rmse: 38.0789\n",
      "Fold: 8\n",
      "Training until validation scores don't improve for 10 rounds.\n",
      "[500]\ttraining's rmse: 37.7212\tvalid_1's rmse: 43.8774\n",
      "[1000]\ttraining's rmse: 32.8631\tvalid_1's rmse: 41.4549\n",
      "[1500]\ttraining's rmse: 29.5529\tvalid_1's rmse: 39.9304\n",
      "[2000]\ttraining's rmse: 27.0176\tvalid_1's rmse: 38.7995\n",
      "[2500]\ttraining's rmse: 25.1477\tvalid_1's rmse: 37.9727\n",
      "[3000]\ttraining's rmse: 23.6754\tvalid_1's rmse: 37.3822\n",
      "[3500]\ttraining's rmse: 22.4386\tvalid_1's rmse: 36.9645\n",
      "Early stopping, best iteration is:\n",
      "[3594]\ttraining's rmse: 22.1898\tvalid_1's rmse: 36.8886\n",
      "Fold: 9\n",
      "Training until validation scores don't improve for 10 rounds.\n",
      "[500]\ttraining's rmse: 38.1226\tvalid_1's rmse: 43.6429\n",
      "[1000]\ttraining's rmse: 33.2821\tvalid_1's rmse: 41.2262\n",
      "[1500]\ttraining's rmse: 29.6925\tvalid_1's rmse: 40.0213\n",
      "[2000]\ttraining's rmse: 26.9606\tvalid_1's rmse: 39.0906\n",
      "[2500]\ttraining's rmse: 25.0234\tvalid_1's rmse: 38.5379\n",
      "Early stopping, best iteration is:\n",
      "[2910]\ttraining's rmse: 23.7814\tvalid_1's rmse: 38.2248\n"
     ]
    }
   ],
   "source": [
    "\n",
    "prediction = np.zeros(test_data.shape[0])\n",
    "\n",
    "for fold_n, (train_index, test_index) in enumerate(folds.split(X)):\n",
    "    print('Fold:', fold_n)\n",
    "    #print(f'Train samples: {len(train_index)}. Valid samples: {len(test_index)}')\n",
    "    X_train, X_valid = X.iloc[train_index], X.iloc[test_index]\n",
    "    y_train, y_valid = y.iloc[train_index], y.iloc[test_index]\n",
    "    \n",
    "\n",
    "    model.fit(X_train, y_train, \n",
    "            eval_set=[(X_train, y_train), (X_valid, y_valid)], eval_metric='rmse',\n",
    "            verbose=500, early_stopping_rounds=10)\n",
    "    \n",
    "    y_pred = model.predict(X_test, num_iteration=model.best_iteration_)\n",
    "    prediction += y_pred\n",
    "prediction /= n_fold"
   ]
  },
  {
   "cell_type": "code",
   "execution_count": 344,
   "metadata": {},
   "outputs": [
    {
     "data": {
      "image/png": "[encoded data removed]",
      "text/plain": [
       "<Figure size 432x288 with 1 Axes>"
      ]
     },
     "metadata": {},
     "output_type": "display_data"
    }
   ],
   "source": [
    "# Use lgb model to list the feature importance from the most important feature to the least important feature.\n",
    "\n",
    "lgb.plot_importance(model, max_num_features=30);"
   ]
  },
  {
   "cell_type": "code",
   "execution_count": 101,
   "metadata": {},
   "outputs": [],
   "source": [
    "from catboost import CatBoostRegressor"
   ]
  },
  {
   "cell_type": "code",
   "execution_count": 102,
   "metadata": {},
   "outputs": [],
   "source": [
    "\n",
    "X_train, X_test, y_train, y_test = train_test_split(X, y, test_size = 0.20, random_state=3)"
   ]
  },
  {
   "cell_type": "code",
   "execution_count": 103,
   "metadata": {},
   "outputs": [
    {
     "name": "stdout",
     "output_type": "stream",
     "text": [
      "0:\tlearn: 173.5279373\ttest: 172.8503519\tbest: 172.8503519 (0)\ttotal: 869ms\tremaining: 14m 27s\n",
      "1:\tlearn: 159.5209569\ttest: 158.9416485\tbest: 158.9416485 (1)\ttotal: 1.85s\tremaining: 15m 22s\n",
      "2:\tlearn: 147.0596263\ttest: 146.5795099\tbest: 146.5795099 (2)\ttotal: 2.83s\tremaining: 15m 40s\n",
      "3:\tlearn: 136.2838006\ttest: 135.9202150\tbest: 135.9202150 (3)\ttotal: 3.84s\tremaining: 15m 55s\n",
      "4:\tlearn: 126.3724436\ttest: 126.1050784\tbest: 126.1050784 (4)\ttotal: 4.83s\tremaining: 16m 1s\n",
      "5:\tlearn: 117.6252793\ttest: 117.4969513\tbest: 117.4969513 (5)\ttotal: 5.83s\tremaining: 16m 5s\n",
      "6:\tlearn: 110.0486109\ttest: 110.0320698\tbest: 110.0320698 (6)\ttotal: 6.9s\tremaining: 16m 18s\n",
      "7:\tlearn: 103.3662082\ttest: 103.3310757\tbest: 103.3310757 (7)\ttotal: 7.92s\tremaining: 16m 22s\n",
      "8:\tlearn: 98.1558472\ttest: 98.1513253\tbest: 98.1513253 (8)\ttotal: 8.01s\tremaining: 14m 41s\n",
      "9:\tlearn: 93.2100258\ttest: 93.2846471\tbest: 93.2846471 (9)\ttotal: 9.11s\tremaining: 15m 1s\n",
      "10:\tlearn: 88.7598325\ttest: 88.9096864\tbest: 88.9096864 (10)\ttotal: 10.1s\tremaining: 15m 9s\n",
      "11:\tlearn: 84.5868961\ttest: 84.8288986\tbest: 84.8288986 (11)\ttotal: 11.1s\tremaining: 15m 11s\n",
      "12:\tlearn: 81.1439674\ttest: 81.4892797\tbest: 81.4892797 (12)\ttotal: 12s\tremaining: 15m 13s\n",
      "13:\tlearn: 78.3391666\ttest: 78.7793420\tbest: 78.7793420 (13)\ttotal: 12.9s\tremaining: 15m 7s\n",
      "14:\tlearn: 75.6036651\ttest: 76.1510759\tbest: 76.1510759 (14)\ttotal: 13.7s\tremaining: 14m 59s\n",
      "15:\tlearn: 73.2892730\ttest: 73.9403163\tbest: 73.9403163 (15)\ttotal: 14.5s\tremaining: 14m 52s\n",
      "16:\tlearn: 71.0354817\ttest: 71.7820635\tbest: 71.7820635 (16)\ttotal: 15.3s\tremaining: 14m 45s\n",
      "17:\tlearn: 69.1556460\ttest: 70.0146420\tbest: 70.0146420 (17)\ttotal: 16.2s\tremaining: 14m 41s\n",
      "18:\tlearn: 67.7297506\ttest: 68.6552273\tbest: 68.6552273 (18)\ttotal: 17s\tremaining: 14m 36s\n",
      "19:\tlearn: 66.3799559\ttest: 67.3733859\tbest: 67.3733859 (19)\ttotal: 17.9s\tremaining: 14m 35s\n",
      "20:\tlearn: 65.2057550\ttest: 66.2914938\tbest: 66.2914938 (20)\ttotal: 18.7s\tremaining: 14m 30s\n",
      "21:\tlearn: 63.9741419\ttest: 65.0765063\tbest: 65.0765063 (21)\ttotal: 19.5s\tremaining: 14m 26s\n",
      "22:\tlearn: 63.1047574\ttest: 64.2488132\tbest: 64.2488132 (22)\ttotal: 20.4s\tremaining: 14m 27s\n",
      "23:\tlearn: 61.9060918\ttest: 63.0626338\tbest: 63.0626338 (23)\ttotal: 21.2s\tremaining: 14m 23s\n",
      "24:\tlearn: 61.0062439\ttest: 62.2317358\tbest: 62.2317358 (24)\ttotal: 22.1s\tremaining: 14m 20s\n",
      "25:\tlearn: 60.1149596\ttest: 61.3994358\tbest: 61.3994358 (25)\ttotal: 22.9s\tremaining: 14m 19s\n",
      "26:\tlearn: 59.5132949\ttest: 60.8400247\tbest: 60.8400247 (26)\ttotal: 23.8s\tremaining: 14m 17s\n",
      "27:\tlearn: 59.0757606\ttest: 60.3786678\tbest: 60.3786678 (27)\ttotal: 24.6s\tremaining: 14m 14s\n",
      "28:\tlearn: 58.4517389\ttest: 59.8126782\tbest: 59.8126782 (28)\ttotal: 25.5s\tremaining: 14m 12s\n",
      "29:\tlearn: 58.0700348\ttest: 59.3943458\tbest: 59.3943458 (29)\ttotal: 25.6s\tremaining: 13m 46s\n",
      "30:\tlearn: 57.8148223\ttest: 59.1658955\tbest: 59.1658955 (30)\ttotal: 26.5s\tremaining: 13m 47s\n",
      "31:\tlearn: 57.2902359\ttest: 58.5035673\tbest: 58.5035673 (31)\ttotal: 27.3s\tremaining: 13m 46s\n",
      "32:\tlearn: 56.7724925\ttest: 58.0073502\tbest: 58.0073502 (32)\ttotal: 28.3s\tremaining: 13m 48s\n",
      "33:\tlearn: 56.5757210\ttest: 57.8203831\tbest: 57.8203831 (33)\ttotal: 29.1s\tremaining: 13m 46s\n",
      "34:\tlearn: 56.3300490\ttest: 57.5700891\tbest: 57.5700891 (34)\ttotal: 30s\tremaining: 13m 46s\n",
      "35:\tlearn: 56.1692619\ttest: 57.3822235\tbest: 57.3822235 (35)\ttotal: 30.9s\tremaining: 13m 46s\n",
      "36:\tlearn: 55.7783200\ttest: 56.9181716\tbest: 56.9181716 (36)\ttotal: 31.7s\tremaining: 13m 45s\n",
      "37:\tlearn: 55.6501255\ttest: 56.8010645\tbest: 56.8010645 (37)\ttotal: 32.6s\tremaining: 13m 45s\n",
      "38:\tlearn: 55.3767526\ttest: 56.5657565\tbest: 56.5657565 (38)\ttotal: 33.5s\tremaining: 13m 44s\n",
      "39:\tlearn: 55.2720039\ttest: 56.4535253\tbest: 56.4535253 (39)\ttotal: 34.4s\tremaining: 13m 44s\n",
      "40:\tlearn: 55.1552627\ttest: 56.3372604\tbest: 56.3372604 (40)\ttotal: 35.3s\tremaining: 13m 44s\n",
      "41:\tlearn: 55.0405601\ttest: 56.2075307\tbest: 56.2075307 (41)\ttotal: 36.1s\tremaining: 13m 44s\n",
      "42:\tlearn: 54.7546677\ttest: 55.8229535\tbest: 55.8229535 (42)\ttotal: 37s\tremaining: 13m 42s\n",
      "43:\tlearn: 54.6820830\ttest: 55.7465688\tbest: 55.7465688 (43)\ttotal: 37.9s\tremaining: 13m 42s\n",
      "44:\tlearn: 54.3950281\ttest: 55.4911290\tbest: 55.4911290 (44)\ttotal: 38.9s\tremaining: 13m 45s\n",
      "45:\tlearn: 54.0245772\ttest: 55.1619799\tbest: 55.1619799 (45)\ttotal: 39.8s\tremaining: 13m 45s\n",
      "46:\tlearn: 53.9059818\ttest: 55.0598136\tbest: 55.0598136 (46)\ttotal: 40.8s\tremaining: 13m 46s\n",
      "47:\tlearn: 53.8767143\ttest: 55.0155700\tbest: 55.0155700 (47)\ttotal: 41.7s\tremaining: 13m 47s\n",
      "48:\tlearn: 53.7556370\ttest: 54.9524477\tbest: 54.9524477 (48)\ttotal: 42.8s\tremaining: 13m 49s\n",
      "49:\tlearn: 53.5043217\ttest: 54.6100017\tbest: 54.6100017 (49)\ttotal: 43.7s\tremaining: 13m 50s\n",
      "50:\tlearn: 53.4639442\ttest: 54.5702817\tbest: 54.5702817 (50)\ttotal: 44.2s\tremaining: 13m 42s\n",
      "51:\tlearn: 53.4289983\ttest: 54.5348726\tbest: 54.5348726 (51)\ttotal: 45.1s\tremaining: 13m 42s\n",
      "52:\tlearn: 53.3944038\ttest: 54.5058401\tbest: 54.5058401 (52)\ttotal: 45.3s\tremaining: 13m 29s\n",
      "53:\tlearn: 53.3724772\ttest: 54.4784598\tbest: 54.4784598 (53)\ttotal: 46.2s\tremaining: 13m 29s\n",
      "54:\tlearn: 53.3595097\ttest: 54.4654141\tbest: 54.4654141 (54)\ttotal: 46.4s\tremaining: 13m 16s\n",
      "55:\tlearn: 53.3487582\ttest: 54.4573258\tbest: 54.4573258 (55)\ttotal: 47.4s\tremaining: 13m 18s\n",
      "56:\tlearn: 53.2409807\ttest: 54.3743022\tbest: 54.3743022 (56)\ttotal: 48.2s\tremaining: 13m 17s\n",
      "57:\tlearn: 53.2090571\ttest: 54.3411429\tbest: 54.3411429 (57)\ttotal: 49.4s\tremaining: 13m 21s\n",
      "58:\tlearn: 53.2038560\ttest: 54.3340419\tbest: 54.3340419 (58)\ttotal: 49.5s\tremaining: 13m 9s\n",
      "59:\tlearn: 53.1890295\ttest: 54.3055574\tbest: 54.3055574 (59)\ttotal: 49.8s\tremaining: 12m 59s\n",
      "60:\tlearn: 53.1811480\ttest: 54.3027001\tbest: 54.3027001 (60)\ttotal: 50s\tremaining: 12m 49s\n",
      "61:\tlearn: 53.1702028\ttest: 54.3026690\tbest: 54.3026690 (61)\ttotal: 51.3s\tremaining: 12m 55s\n",
      "62:\tlearn: 53.1622148\ttest: 54.3026782\tbest: 54.3026690 (61)\ttotal: 52.4s\tremaining: 12m 59s\n",
      "63:\tlearn: 53.1494971\ttest: 54.2878937\tbest: 54.2878937 (63)\ttotal: 53.4s\tremaining: 13m 1s\n",
      "64:\tlearn: 53.1367644\ttest: 54.2770382\tbest: 54.2770382 (64)\ttotal: 54.5s\tremaining: 13m 3s\n",
      "65:\tlearn: 52.9532268\ttest: 54.1472127\tbest: 54.1472127 (65)\ttotal: 55.4s\tremaining: 13m 4s\n",
      "66:\tlearn: 52.7240968\ttest: 53.9734881\tbest: 53.9734881 (66)\ttotal: 56.3s\tremaining: 13m 4s\n",
      "67:\tlearn: 52.6949407\ttest: 53.9434031\tbest: 53.9434031 (67)\ttotal: 57.1s\tremaining: 13m 2s\n",
      "68:\tlearn: 52.5425965\ttest: 53.8343121\tbest: 53.8343121 (68)\ttotal: 58s\tremaining: 13m 2s\n",
      "69:\tlearn: 52.5395661\ttest: 53.8321410\tbest: 53.8321410 (69)\ttotal: 58.5s\tremaining: 12m 56s\n",
      "70:\tlearn: 52.5301040\ttest: 53.8131563\tbest: 53.8131563 (70)\ttotal: 58.7s\tremaining: 12m 48s\n",
      "71:\tlearn: 52.5229631\ttest: 53.7982118\tbest: 53.7982118 (71)\ttotal: 59.5s\tremaining: 12m 46s\n",
      "72:\tlearn: 52.5117240\ttest: 53.7781840\tbest: 53.7781840 (72)\ttotal: 59.9s\tremaining: 12m 41s\n",
      "73:\tlearn: 52.5111724\ttest: 53.7792488\tbest: 53.7781840 (72)\ttotal: 60s\tremaining: 12m 30s\n",
      "74:\tlearn: 52.5111131\ttest: 53.7791718\tbest: 53.7781840 (72)\ttotal: 1m\tremaining: 12m 20s\n",
      "75:\tlearn: 52.5017213\ttest: 53.7634588\tbest: 53.7634588 (75)\ttotal: 1m\tremaining: 12m 15s\n",
      "76:\tlearn: 52.5015772\ttest: 53.7635514\tbest: 53.7634588 (75)\ttotal: 1m\tremaining: 12m 5s\n",
      "77:\tlearn: 52.5015655\ttest: 53.7634878\tbest: 53.7634588 (75)\ttotal: 1m\tremaining: 11m 55s\n",
      "78:\tlearn: 52.3363944\ttest: 53.6094921\tbest: 53.6094921 (78)\ttotal: 1m 1s\tremaining: 11m 55s\n",
      "79:\tlearn: 52.3363807\ttest: 53.6094121\tbest: 53.6094121 (79)\ttotal: 1m 1s\tremaining: 11m 45s\n",
      "80:\tlearn: 52.3313183\ttest: 53.6106355\tbest: 53.6094121 (79)\ttotal: 1m 2s\tremaining: 11m 45s\n",
      "81:\tlearn: 52.3309939\ttest: 53.6108190\tbest: 53.6094121 (79)\ttotal: 1m 2s\tremaining: 11m 37s\n",
      "82:\tlearn: 52.3309875\ttest: 53.6107767\tbest: 53.6094121 (79)\ttotal: 1m 2s\tremaining: 11m 28s\n",
      "83:\tlearn: 52.3309564\ttest: 53.6107476\tbest: 53.6094121 (79)\ttotal: 1m 2s\tremaining: 11m 20s\n",
      "84:\tlearn: 52.3268510\ttest: 53.6076340\tbest: 53.6076340 (84)\ttotal: 1m 2s\tremaining: 11m 14s\n",
      "85:\tlearn: 52.3268403\ttest: 53.6076025\tbest: 53.6076025 (85)\ttotal: 1m 2s\tremaining: 11m 6s\n",
      "86:\tlearn: 52.1271481\ttest: 53.5119820\tbest: 53.5119820 (86)\ttotal: 1m 3s\tremaining: 11m 6s\n",
      "87:\tlearn: 52.1254914\ttest: 53.5108680\tbest: 53.5108680 (87)\ttotal: 1m 3s\tremaining: 10m 59s\n",
      "88:\tlearn: 51.9500170\ttest: 53.3703464\tbest: 53.3703464 (88)\ttotal: 1m 4s\tremaining: 10m 59s\n"
     ]
    },
    {
     "name": "stdout",
     "output_type": "stream",
     "text": [
      "89:\tlearn: 51.7175378\ttest: 53.2484749\tbest: 53.2484749 (89)\ttotal: 1m 5s\tremaining: 11m\n",
      "90:\tlearn: 51.7174710\ttest: 53.2481541\tbest: 53.2481541 (90)\ttotal: 1m 5s\tremaining: 10m 52s\n",
      "91:\tlearn: 51.6967669\ttest: 53.2360673\tbest: 53.2360673 (91)\ttotal: 1m 5s\tremaining: 10m 47s\n",
      "92:\tlearn: 51.4252559\ttest: 53.0623148\tbest: 53.0623148 (92)\ttotal: 1m 6s\tremaining: 10m 48s\n",
      "93:\tlearn: 51.2940203\ttest: 52.8970437\tbest: 52.8970437 (93)\ttotal: 1m 7s\tremaining: 10m 48s\n",
      "94:\tlearn: 51.0632096\ttest: 52.7159329\tbest: 52.7159329 (94)\ttotal: 1m 8s\tremaining: 10m 48s\n",
      "95:\tlearn: 50.9290735\ttest: 52.5753029\tbest: 52.5753029 (95)\ttotal: 1m 8s\tremaining: 10m 48s\n",
      "96:\tlearn: 50.9181006\ttest: 52.5625449\tbest: 52.5625449 (96)\ttotal: 1m 9s\tremaining: 10m 48s\n",
      "97:\tlearn: 50.7693338\ttest: 52.4731696\tbest: 52.4731696 (97)\ttotal: 1m 10s\tremaining: 10m 48s\n",
      "98:\tlearn: 50.6512077\ttest: 52.3032897\tbest: 52.3032897 (98)\ttotal: 1m 10s\tremaining: 10m 45s\n",
      "99:\tlearn: 50.5533407\ttest: 52.1592331\tbest: 52.1592331 (99)\ttotal: 1m 11s\tremaining: 10m 45s\n",
      "100:\tlearn: 50.4723674\ttest: 52.0970536\tbest: 52.0970536 (100)\ttotal: 1m 12s\tremaining: 10m 45s\n",
      "101:\tlearn: 50.2617930\ttest: 51.8071281\tbest: 51.8071281 (101)\ttotal: 1m 13s\tremaining: 10m 45s\n",
      "102:\tlearn: 50.0758571\ttest: 51.6822810\tbest: 51.6822810 (102)\ttotal: 1m 14s\tremaining: 10m 44s\n",
      "103:\tlearn: 49.9435175\ttest: 51.5980283\tbest: 51.5980283 (103)\ttotal: 1m 14s\tremaining: 10m 45s\n",
      "104:\tlearn: 49.7518030\ttest: 51.3980798\tbest: 51.3980798 (104)\ttotal: 1m 15s\tremaining: 10m 45s\n",
      "105:\tlearn: 49.6768864\ttest: 51.3186715\tbest: 51.3186715 (105)\ttotal: 1m 16s\tremaining: 10m 45s\n",
      "106:\tlearn: 49.6714828\ttest: 51.3180931\tbest: 51.3180931 (106)\ttotal: 1m 16s\tremaining: 10m 40s\n",
      "107:\tlearn: 49.6382952\ttest: 51.3060278\tbest: 51.3060278 (107)\ttotal: 1m 17s\tremaining: 10m 40s\n",
      "108:\tlearn: 49.6036621\ttest: 51.2760568\tbest: 51.2760568 (108)\ttotal: 1m 18s\tremaining: 10m 40s\n",
      "109:\tlearn: 49.4102029\ttest: 51.1782782\tbest: 51.1782782 (109)\ttotal: 1m 19s\tremaining: 10m 39s\n",
      "110:\tlearn: 49.3545808\ttest: 51.1405547\tbest: 51.1405547 (110)\ttotal: 1m 19s\tremaining: 10m 39s\n",
      "111:\tlearn: 49.3381610\ttest: 51.1405630\tbest: 51.1405547 (110)\ttotal: 1m 20s\tremaining: 10m 39s\n",
      "112:\tlearn: 49.3277251\ttest: 51.1417105\tbest: 51.1405547 (110)\ttotal: 1m 21s\tremaining: 10m 39s\n",
      "113:\tlearn: 49.3275689\ttest: 51.1415068\tbest: 51.1405547 (110)\ttotal: 1m 21s\tremaining: 10m 33s\n",
      "114:\tlearn: 49.3156809\ttest: 51.1444241\tbest: 51.1405547 (110)\ttotal: 1m 22s\tremaining: 10m 32s\n",
      "115:\tlearn: 49.1939565\ttest: 51.0414973\tbest: 51.0414973 (115)\ttotal: 1m 23s\tremaining: 10m 32s\n",
      "116:\tlearn: 49.1939030\ttest: 51.0413739\tbest: 51.0413739 (116)\ttotal: 1m 23s\tremaining: 10m 26s\n",
      "117:\tlearn: 49.1930936\ttest: 51.0407288\tbest: 51.0407288 (117)\ttotal: 1m 23s\tremaining: 10m 24s\n",
      "118:\tlearn: 49.1637357\ttest: 51.0144674\tbest: 51.0144674 (118)\ttotal: 1m 24s\tremaining: 10m 24s\n",
      "119:\tlearn: 49.0739707\ttest: 50.9161583\tbest: 50.9161583 (119)\ttotal: 1m 25s\tremaining: 10m 23s\n",
      "120:\tlearn: 48.9988226\ttest: 50.8399716\tbest: 50.8399716 (120)\ttotal: 1m 25s\tremaining: 10m 23s\n",
      "121:\tlearn: 48.9925532\ttest: 50.8388466\tbest: 50.8388466 (121)\ttotal: 1m 26s\tremaining: 10m 23s\n",
      "122:\tlearn: 48.9882135\ttest: 50.8300918\tbest: 50.8300918 (122)\ttotal: 1m 27s\tremaining: 10m 23s\n",
      "123:\tlearn: 48.9877012\ttest: 50.8298626\tbest: 50.8298626 (123)\ttotal: 1m 27s\tremaining: 10m 18s\n",
      "124:\tlearn: 48.9857435\ttest: 50.8280096\tbest: 50.8280096 (124)\ttotal: 1m 28s\tremaining: 10m 18s\n",
      "125:\tlearn: 48.9837175\ttest: 50.8305468\tbest: 50.8280096 (124)\ttotal: 1m 28s\tremaining: 10m 13s\n",
      "126:\tlearn: 48.8996949\ttest: 50.8018873\tbest: 50.8018873 (126)\ttotal: 1m 29s\tremaining: 10m 13s\n",
      "127:\tlearn: 48.8996740\ttest: 50.8018216\tbest: 50.8018216 (127)\ttotal: 1m 29s\tremaining: 10m 8s\n",
      "128:\tlearn: 48.8915964\ttest: 50.8082666\tbest: 50.8018216 (127)\ttotal: 1m 30s\tremaining: 10m 8s\n",
      "129:\tlearn: 48.8525215\ttest: 50.7821220\tbest: 50.7821220 (129)\ttotal: 1m 30s\tremaining: 10m 8s\n",
      "130:\tlearn: 48.8523350\ttest: 50.7817895\tbest: 50.7817895 (130)\ttotal: 1m 30s\tremaining: 10m 3s\n",
      "131:\tlearn: 48.8522618\ttest: 50.7817945\tbest: 50.7817895 (130)\ttotal: 1m 30s\tremaining: 9m 58s\n",
      "132:\tlearn: 48.8522464\ttest: 50.7817428\tbest: 50.7817428 (132)\ttotal: 1m 31s\tremaining: 9m 53s\n",
      "133:\tlearn: 48.8522452\ttest: 50.7817455\tbest: 50.7817428 (132)\ttotal: 1m 31s\tremaining: 9m 48s\n",
      "134:\tlearn: 48.8509989\ttest: 50.7804048\tbest: 50.7804048 (134)\ttotal: 1m 31s\tremaining: 9m 44s\n",
      "135:\tlearn: 48.7087314\ttest: 50.6535492\tbest: 50.6535492 (135)\ttotal: 1m 31s\tremaining: 9m 44s\n",
      "136:\tlearn: 48.7086632\ttest: 50.6535535\tbest: 50.6535492 (135)\ttotal: 1m 32s\tremaining: 9m 39s\n",
      "137:\tlearn: 48.7086631\ttest: 50.6535561\tbest: 50.6535492 (135)\ttotal: 1m 32s\tremaining: 9m 35s\n",
      "138:\tlearn: 48.7037973\ttest: 50.6494452\tbest: 50.6494452 (138)\ttotal: 1m 32s\tremaining: 9m 31s\n",
      "139:\tlearn: 48.5717318\ttest: 50.5373158\tbest: 50.5373158 (139)\ttotal: 1m 33s\tremaining: 9m 31s\n",
      "140:\tlearn: 48.5642529\ttest: 50.5426539\tbest: 50.5373158 (139)\ttotal: 1m 33s\tremaining: 9m 31s\n",
      "141:\tlearn: 48.5521559\ttest: 50.5328890\tbest: 50.5328890 (141)\ttotal: 1m 34s\tremaining: 9m 31s\n",
      "142:\tlearn: 48.5511371\ttest: 50.5324062\tbest: 50.5324062 (142)\ttotal: 1m 34s\tremaining: 9m 28s\n",
      "143:\tlearn: 48.5511367\ttest: 50.5324081\tbest: 50.5324062 (142)\ttotal: 1m 34s\tremaining: 9m 24s\n",
      "144:\tlearn: 48.4946693\ttest: 50.4733070\tbest: 50.4733070 (144)\ttotal: 1m 35s\tremaining: 9m 24s\n",
      "145:\tlearn: 48.4937693\ttest: 50.4728690\tbest: 50.4728690 (145)\ttotal: 1m 35s\tremaining: 9m 21s\n",
      "146:\tlearn: 48.4929708\ttest: 50.4725136\tbest: 50.4725136 (146)\ttotal: 1m 36s\tremaining: 9m 18s\n",
      "147:\tlearn: 48.4373702\ttest: 50.4255962\tbest: 50.4255962 (147)\ttotal: 1m 37s\tremaining: 9m 18s\n",
      "148:\tlearn: 48.0716964\ttest: 50.0716126\tbest: 50.0716126 (148)\ttotal: 1m 37s\tremaining: 9m 18s\n",
      "149:\tlearn: 48.0716960\ttest: 50.0716185\tbest: 50.0716126 (148)\ttotal: 1m 37s\tremaining: 9m 14s\n",
      "150:\tlearn: 48.0716956\ttest: 50.0716238\tbest: 50.0716126 (148)\ttotal: 1m 37s\tremaining: 9m 10s\n",
      "151:\tlearn: 48.0716243\ttest: 50.0714958\tbest: 50.0714958 (151)\ttotal: 1m 37s\tremaining: 9m 6s\n",
      "152:\tlearn: 48.0715671\ttest: 50.0713907\tbest: 50.0713907 (152)\ttotal: 1m 37s\tremaining: 9m 2s\n",
      "153:\tlearn: 48.0715669\ttest: 50.0713945\tbest: 50.0713907 (152)\ttotal: 1m 38s\tremaining: 8m 58s\n",
      "154:\tlearn: 48.0715193\ttest: 50.0713010\tbest: 50.0713010 (154)\ttotal: 1m 38s\tremaining: 8m 54s\n",
      "155:\tlearn: 48.0714813\ttest: 50.0712244\tbest: 50.0712244 (155)\ttotal: 1m 38s\tremaining: 8m 51s\n",
      "156:\tlearn: 48.0714810\ttest: 50.0712272\tbest: 50.0712244 (155)\ttotal: 1m 38s\tremaining: 8m 47s\n",
      "157:\tlearn: 48.0707386\ttest: 50.0706986\tbest: 50.0706986 (157)\ttotal: 1m 38s\tremaining: 8m 44s\n",
      "158:\tlearn: 48.0707384\ttest: 50.0707010\tbest: 50.0706986 (157)\ttotal: 1m 38s\tremaining: 8m 40s\n",
      "159:\tlearn: 48.0696784\ttest: 50.0734334\tbest: 50.0706986 (157)\ttotal: 1m 38s\tremaining: 8m 37s\n",
      "160:\tlearn: 48.0690185\ttest: 50.0729836\tbest: 50.0706986 (157)\ttotal: 1m 38s\tremaining: 8m 35s\n",
      "161:\tlearn: 48.0684316\ttest: 50.0726063\tbest: 50.0706986 (157)\ttotal: 1m 39s\tremaining: 8m 32s\n",
      "162:\tlearn: 48.0683978\ttest: 50.0725521\tbest: 50.0706986 (157)\ttotal: 1m 39s\tremaining: 8m 29s\n",
      "163:\tlearn: 48.0683766\ttest: 50.0725146\tbest: 50.0706986 (157)\ttotal: 1m 39s\tremaining: 8m 26s\n",
      "164:\tlearn: 48.0678535\ttest: 50.0722008\tbest: 50.0706986 (157)\ttotal: 1m 39s\tremaining: 8m 23s\n",
      "165:\tlearn: 48.0678534\ttest: 50.0722024\tbest: 50.0706986 (157)\ttotal: 1m 39s\tremaining: 8m 20s\n",
      "166:\tlearn: 48.0678290\ttest: 50.0721646\tbest: 50.0706986 (157)\ttotal: 1m 39s\tremaining: 8m 17s\n",
      "167:\tlearn: 48.0678147\ttest: 50.0721418\tbest: 50.0706986 (157)\ttotal: 1m 39s\tremaining: 8m 13s\n",
      "168:\tlearn: 48.0677969\ttest: 50.0721128\tbest: 50.0706986 (157)\ttotal: 1m 39s\tremaining: 8m 10s\n",
      "169:\tlearn: 48.0677968\ttest: 50.0721138\tbest: 50.0706986 (157)\ttotal: 1m 39s\tremaining: 8m 7s\n",
      "170:\tlearn: 48.0673294\ttest: 50.0718532\tbest: 50.0706986 (157)\ttotal: 1m 40s\tremaining: 8m 5s\n",
      "171:\tlearn: 48.0673294\ttest: 50.0718542\tbest: 50.0706986 (157)\ttotal: 1m 40s\tremaining: 8m 2s\n",
      "172:\tlearn: 48.0673196\ttest: 50.0718418\tbest: 50.0706986 (157)\ttotal: 1m 40s\tremaining: 7m 59s\n",
      "173:\tlearn: 47.6106478\ttest: 49.6440730\tbest: 49.6440730 (173)\ttotal: 1m 40s\tremaining: 7m 59s\n",
      "174:\tlearn: 47.6100833\ttest: 49.6436001\tbest: 49.6436001 (174)\ttotal: 1m 41s\tremaining: 7m 56s\n",
      "175:\tlearn: 47.6100717\ttest: 49.6435666\tbest: 49.6435666 (175)\ttotal: 1m 41s\tremaining: 7m 54s\n",
      "176:\tlearn: 47.6100716\ttest: 49.6435700\tbest: 49.6435666 (175)\ttotal: 1m 41s\tremaining: 7m 50s\n",
      "177:\tlearn: 47.6100618\ttest: 49.6435400\tbest: 49.6435400 (177)\ttotal: 1m 41s\tremaining: 7m 48s\n"
     ]
    },
    {
     "name": "stdout",
     "output_type": "stream",
     "text": [
      "178:\tlearn: 47.6100534\ttest: 49.6435135\tbest: 49.6435135 (178)\ttotal: 1m 41s\tremaining: 7m 45s\n",
      "179:\tlearn: 47.6100533\ttest: 49.6435160\tbest: 49.6435135 (178)\ttotal: 1m 41s\tremaining: 7m 42s\n",
      "180:\tlearn: 47.6097093\ttest: 49.6432613\tbest: 49.6432613 (180)\ttotal: 1m 41s\tremaining: 7m 39s\n",
      "181:\tlearn: 47.6097092\ttest: 49.6432635\tbest: 49.6432613 (180)\ttotal: 1m 41s\tremaining: 7m 36s\n",
      "182:\tlearn: 47.6097091\ttest: 49.6432654\tbest: 49.6432613 (180)\ttotal: 1m 41s\tremaining: 7m 33s\n",
      "183:\tlearn: 47.6093447\ttest: 49.6431083\tbest: 49.6431083 (183)\ttotal: 1m 41s\tremaining: 7m 31s\n",
      "184:\tlearn: 47.6093409\ttest: 49.6430964\tbest: 49.6430964 (184)\ttotal: 1m 41s\tremaining: 7m 29s\n",
      "185:\tlearn: 47.6092959\ttest: 49.6426538\tbest: 49.6426538 (185)\ttotal: 1m 42s\tremaining: 7m 26s\n",
      "186:\tlearn: 47.6092958\ttest: 49.6426551\tbest: 49.6426538 (185)\ttotal: 1m 42s\tremaining: 7m 23s\n",
      "187:\tlearn: 47.6090160\ttest: 49.6424887\tbest: 49.6424887 (187)\ttotal: 1m 42s\tremaining: 7m 21s\n",
      "188:\tlearn: 47.6090159\ttest: 49.6424899\tbest: 49.6424887 (187)\ttotal: 1m 42s\tremaining: 7m 18s\n",
      "189:\tlearn: 47.6087205\ttest: 49.6424330\tbest: 49.6424330 (189)\ttotal: 1m 42s\tremaining: 7m 16s\n",
      "190:\tlearn: 47.6084890\ttest: 49.6423143\tbest: 49.6423143 (190)\ttotal: 1m 42s\tremaining: 7m 14s\n",
      "191:\tlearn: 47.6084890\ttest: 49.6423153\tbest: 49.6423143 (190)\ttotal: 1m 42s\tremaining: 7m 11s\n",
      "192:\tlearn: 47.6082426\ttest: 49.6422986\tbest: 49.6422986 (192)\ttotal: 1m 42s\tremaining: 7m 10s\n",
      "193:\tlearn: 47.6082197\ttest: 49.6419979\tbest: 49.6419979 (193)\ttotal: 1m 42s\tremaining: 7m 7s\n",
      "194:\tlearn: 47.6082196\ttest: 49.6419987\tbest: 49.6419979 (193)\ttotal: 1m 42s\tremaining: 7m 5s\n",
      "195:\tlearn: 47.6082195\ttest: 49.6419994\tbest: 49.6419979 (193)\ttotal: 1m 42s\tremaining: 7m 2s\n",
      "196:\tlearn: 47.6082179\ttest: 49.6419679\tbest: 49.6419679 (196)\ttotal: 1m 43s\tremaining: 6m 59s\n",
      "197:\tlearn: 47.6080270\ttest: 49.6418972\tbest: 49.6418972 (197)\ttotal: 1m 43s\tremaining: 6m 57s\n",
      "198:\tlearn: 47.6080269\ttest: 49.6418978\tbest: 49.6418972 (197)\ttotal: 1m 43s\tremaining: 6m 55s\n",
      "199:\tlearn: 47.6080268\ttest: 49.6418983\tbest: 49.6418972 (197)\ttotal: 1m 43s\tremaining: 6m 53s\n",
      "200:\tlearn: 47.2704353\ttest: 49.3465157\tbest: 49.3465157 (200)\ttotal: 1m 44s\tremaining: 6m 53s\n",
      "201:\tlearn: 47.2704268\ttest: 49.3465124\tbest: 49.3465124 (201)\ttotal: 1m 44s\tremaining: 6m 51s\n",
      "202:\tlearn: 47.2704194\ttest: 49.3465095\tbest: 49.3465095 (202)\ttotal: 1m 44s\tremaining: 6m 49s\n",
      "203:\tlearn: 47.2704178\ttest: 49.3465130\tbest: 49.3465095 (202)\ttotal: 1m 44s\tremaining: 6m 46s\n",
      "204:\tlearn: 47.2702394\ttest: 49.3464594\tbest: 49.3464594 (204)\ttotal: 1m 44s\tremaining: 6m 44s\n",
      "205:\tlearn: 47.2702379\ttest: 49.3464623\tbest: 49.3464594 (204)\ttotal: 1m 44s\tremaining: 6m 42s\n",
      "206:\tlearn: 47.2702364\ttest: 49.3464649\tbest: 49.3464594 (204)\ttotal: 1m 44s\tremaining: 6m 40s\n",
      "207:\tlearn: 47.2702351\ttest: 49.3464672\tbest: 49.3464594 (204)\ttotal: 1m 44s\tremaining: 6m 37s\n",
      "208:\tlearn: 47.2702274\ttest: 49.3464607\tbest: 49.3464594 (204)\ttotal: 1m 44s\tremaining: 6m 35s\n",
      "209:\tlearn: 47.2700648\ttest: 49.3464160\tbest: 49.3464160 (209)\ttotal: 1m 44s\tremaining: 6m 34s\n",
      "210:\tlearn: 47.2700635\ttest: 49.3464178\tbest: 49.3464160 (209)\ttotal: 1m 44s\tremaining: 6m 31s\n",
      "211:\tlearn: 47.2700629\ttest: 49.3463984\tbest: 49.3463984 (211)\ttotal: 1m 44s\tremaining: 6m 29s\n",
      "212:\tlearn: 47.2700617\ttest: 49.3463999\tbest: 49.3463984 (211)\ttotal: 1m 44s\tremaining: 6m 27s\n",
      "213:\tlearn: 47.2700606\ttest: 49.3464012\tbest: 49.3463984 (211)\ttotal: 1m 44s\tremaining: 6m 25s\n",
      "214:\tlearn: 47.2700600\ttest: 49.3463834\tbest: 49.3463834 (214)\ttotal: 1m 44s\tremaining: 6m 23s\n",
      "215:\tlearn: 47.2700590\ttest: 49.3463845\tbest: 49.3463834 (214)\ttotal: 1m 44s\tremaining: 6m 20s\n",
      "216:\tlearn: 47.2700580\ttest: 49.3463854\tbest: 49.3463834 (214)\ttotal: 1m 44s\tremaining: 6m 18s\n",
      "217:\tlearn: 47.2700528\ttest: 49.3463795\tbest: 49.3463795 (217)\ttotal: 1m 45s\tremaining: 6m 17s\n",
      "218:\tlearn: 47.2700523\ttest: 49.3463623\tbest: 49.3463623 (218)\ttotal: 1m 45s\tremaining: 6m 14s\n",
      "219:\tlearn: 47.2700519\ttest: 49.3463470\tbest: 49.3463470 (219)\ttotal: 1m 45s\tremaining: 6m 12s\n",
      "220:\tlearn: 47.2700479\ttest: 49.3463417\tbest: 49.3463417 (220)\ttotal: 1m 45s\tremaining: 6m 10s\n",
      "221:\tlearn: 47.2700470\ttest: 49.3463423\tbest: 49.3463417 (220)\ttotal: 1m 45s\tremaining: 6m 8s\n",
      "222:\tlearn: 47.2700467\ttest: 49.3463275\tbest: 49.3463275 (222)\ttotal: 1m 45s\tremaining: 6m 6s\n",
      "223:\tlearn: 47.2691178\ttest: 49.3491016\tbest: 49.3463275 (222)\ttotal: 1m 45s\tremaining: 6m 5s\n",
      "224:\tlearn: 47.2691170\ttest: 49.3491023\tbest: 49.3463275 (222)\ttotal: 1m 45s\tremaining: 6m 3s\n",
      "225:\tlearn: 47.2691162\ttest: 49.3491028\tbest: 49.3463275 (222)\ttotal: 1m 45s\tremaining: 6m 1s\n",
      "226:\tlearn: 47.2691155\ttest: 49.3491033\tbest: 49.3463275 (222)\ttotal: 1m 45s\tremaining: 5m 59s\n",
      "227:\tlearn: 47.2691148\ttest: 49.3491038\tbest: 49.3463275 (222)\ttotal: 1m 45s\tremaining: 5m 57s\n",
      "228:\tlearn: 47.2691141\ttest: 49.3491042\tbest: 49.3463275 (222)\ttotal: 1m 45s\tremaining: 5m 55s\n",
      "229:\tlearn: 47.2691135\ttest: 49.3491045\tbest: 49.3463275 (222)\ttotal: 1m 45s\tremaining: 5m 53s\n",
      "230:\tlearn: 47.2691131\ttest: 49.3490895\tbest: 49.3463275 (222)\ttotal: 1m 45s\tremaining: 5m 52s\n",
      "231:\tlearn: 47.2689646\ttest: 49.3490497\tbest: 49.3463275 (222)\ttotal: 1m 45s\tremaining: 5m 50s\n",
      "232:\tlearn: 47.2689640\ttest: 49.3490500\tbest: 49.3463275 (222)\ttotal: 1m 45s\tremaining: 5m 48s\n",
      "233:\tlearn: 47.2689635\ttest: 49.3490503\tbest: 49.3463275 (222)\ttotal: 1m 46s\tremaining: 5m 46s\n",
      "234:\tlearn: 47.2689629\ttest: 49.3490505\tbest: 49.3463275 (222)\ttotal: 1m 46s\tremaining: 5m 45s\n",
      "235:\tlearn: 47.2689624\ttest: 49.3490507\tbest: 49.3463275 (222)\ttotal: 1m 46s\tremaining: 5m 43s\n",
      "236:\tlearn: 47.2689619\ttest: 49.3490509\tbest: 49.3463275 (222)\ttotal: 1m 46s\tremaining: 5m 41s\n",
      "237:\tlearn: 47.2689614\ttest: 49.3490511\tbest: 49.3463275 (222)\ttotal: 1m 46s\tremaining: 5m 39s\n",
      "238:\tlearn: 47.2689609\ttest: 49.3490513\tbest: 49.3463275 (222)\ttotal: 1m 46s\tremaining: 5m 38s\n",
      "239:\tlearn: 47.2689606\ttest: 49.3490380\tbest: 49.3463275 (222)\ttotal: 1m 46s\tremaining: 5m 36s\n",
      "240:\tlearn: 47.2689602\ttest: 49.3490382\tbest: 49.3463275 (222)\ttotal: 1m 46s\tremaining: 5m 34s\n",
      "241:\tlearn: 47.2688250\ttest: 49.3490084\tbest: 49.3463275 (222)\ttotal: 1m 46s\tremaining: 5m 33s\n",
      "242:\tlearn: 47.2688247\ttest: 49.3489972\tbest: 49.3463275 (222)\ttotal: 1m 46s\tremaining: 5m 31s\n",
      "Stopped by overfitting detector  (20 iterations wait)\n",
      "\n",
      "bestTest = 49.34632753\n",
      "bestIteration = 222\n",
      "\n",
      "Shrink model to first 223 iterations.\n"
     ]
    }
   ],
   "source": [
    "model = CatBoostRegressor(iterations=1000,\n",
    "                             learning_rate=0.1,\n",
    "                             depth=10,\n",
    "                             eval_metric='RMSE',\n",
    "                             random_seed = 42,\n",
    "                             bagging_temperature = 0.2,\n",
    "                             od_type='Iter',\n",
    "                             #metric_period = 50,\n",
    "                             od_wait=20)\n",
    "model.fit(X_train, y_train,\n",
    "              eval_set=(X_test, y_test),\n",
    "              use_best_model=True,\n",
    "              verbose=True)\n",
    "    \n",
    "pred_train = model.predict(X_train)\n",
    "pred_test = model.predict(X_test)\n",
    "\n"
   ]
  },
  {
   "cell_type": "code",
   "execution_count": null,
   "metadata": {},
   "outputs": [],
   "source": []
  }
 ],
 "metadata": {
  "kernelspec": {
   "display_name": "Python 3",
   "language": "python",
   "name": "python3"
  },
  "language_info": {
   "codemirror_mode": {
    "name": "ipython",
    "version": 3
   },
   "file_extension": ".py",
   "mimetype": "text/x-python",
   "name": "python",
   "nbconvert_exporter": "python",
   "pygments_lexer": "ipython3",
   "version": "3.7.0"
  }
 },
 "nbformat": 4,
 "nbformat_minor": 2
}
